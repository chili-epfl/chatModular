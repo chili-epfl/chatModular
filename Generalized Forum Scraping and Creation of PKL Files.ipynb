{
 "cells": [
  {
   "cell_type": "markdown",
   "metadata": {},
   "source": [
    "# Generalized Forum Scraping and Creation of PKL files\n",
    "\n",
    "\n",
    "# Table of Contents\n",
    "\n",
    "### [1. Generalized Scraping of an Online Forum](#1)\n",
    "[1.1. Functions](#11) <br/>\n",
    "[1.2. Collect all Titles and Links of the Forum](#121) <br/>\n",
    "[1.3. Collect all Usernames, Messages of every Posts in every Link](#122) <br/>\n",
    "[1.4. Merge the Titles, Usernames, Messages to have all Posts](#13) <br/>\n",
    "\n",
    "### [2. Creation of the PKL Files](#2)\n",
    "[2.1. Sorting Data](#21) <br/>\n",
    "[2.2. Precomputing word2vec](#22) <br/>\n",
    "[2.3. Dot Product Similarity Functions](#23) <br/>\n",
    "[2.4. Chatbot Functions](#24) <br/>"
   ]
  },
  {
   "cell_type": "markdown",
   "metadata": {},
   "source": [
    "## 1. Generalized Forum Scraping"
   ]
  },
  {
   "cell_type": "raw",
   "metadata": {},
   "source": [
    "Once we have the tags for a certain forum, just keep them somewhere as they shouldn't change. In the opposite, the parameters to find the tags may need to change in time."
   ]
  },
  {
   "cell_type": "markdown",
   "metadata": {},
   "source": [
    "### 1.1. Functions"
   ]
  },
  {
   "cell_type": "code",
   "execution_count": 5,
   "metadata": {},
   "outputs": [],
   "source": [
    "import requests\n",
    "from bs4 import BeautifulSoup\n",
    "import numpy as np\n",
    "import pandas as pd\n",
    "import nltk\n",
    "import gensim\n",
    "import re"
   ]
  },
  {
   "cell_type": "markdown",
   "metadata": {},
   "source": [
    "Functions that find the tags allowing to retrieve the data we need"
   ]
  },
  {
   "cell_type": "code",
   "execution_count": 6,
   "metadata": {},
   "outputs": [],
   "source": [
    "def find_next_tag(x, soup, tag):\n",
    "    \"\"\"\n",
    "    Finds recursively the tag necessary to scrape the next page of a forum.\n",
    "    :param x: string\n",
    "    :param soup: BeautifulSoup\n",
    "    :param tag: list\n",
    "    :return: string\n",
    "    \"\"\"\n",
    "    if x != None and x.parent != None:\n",
    "        next_tag = x.parent.name\n",
    "        try:\n",
    "            soup.find_all(next_tag, string=\"Next\")[0]['href'][1:]\n",
    "            tag[0] = next_tag\n",
    "            print(\"The tag for next page is \", next_tag)\n",
    "        except:\n",
    "            find_next_tag(x.parent, soup, tag)\n",
    "        return tag[0]\n",
    "    else:\n",
    "        print(\"tag of the next page is not treated in this program\")\n",
    "        return None\n",
    "\n",
    "def find_tags_recursively(x, comparator, tags):\n",
    "    \"\"\"\n",
    "    Help function to find tags recursively.\n",
    "    :param x: string\n",
    "    :param comparator: string\n",
    "    :param tags: list\n",
    "    :return: list\n",
    "    \"\"\"\n",
    "    tag = x.name\n",
    "    try:\n",
    "        class_name = x['class'][0]\n",
    "        tags.append(class_name)\n",
    "        tags.append(tag)\n",
    "        next_ = x.findNext(tag, {'class': class_name})\n",
    "    except:\n",
    "        tags.append(tag)\n",
    "        next_ = x.findNext(tag)\n",
    "        \n",
    "    if next_ != None:\n",
    "        if comparator in next_.text:\n",
    "            print(\"I've found the right tags, it's \", tags[::-1])\n",
    "            return tags[::-1]\n",
    "        else:\n",
    "            return find_tags_recursively(x.parent, comparator, tags)\n",
    "    else:\n",
    "        print(\"Unable to scrape this text from this forum\") \n",
    "\n",
    "def find_tags(soup, param1, param2):\n",
    "    \"\"\"\n",
    "    Finds all tags needed to retrieve the information we're looking for (titles of threads, usernames, message, ...).\n",
    "    :param soup: BeautifulSoup\n",
    "    :param param1: string\n",
    "    :param param2: string\n",
    "    :return: list\n",
    "    \"\"\"\n",
    "    text = soup.find(text=re.compile(param1))\n",
    "    if text is None:\n",
    "        print(\"Unable to scrape this text from this forum\")\n",
    "        return None\n",
    "    else:\n",
    "        return find_tags_recursively(text.parent, param2, []) "
   ]
  },
  {
   "cell_type": "markdown",
   "metadata": {},
   "source": [
    "Functions that scrape the forum thanks to the tags found above"
   ]
  },
  {
   "cell_type": "code",
   "execution_count": 7,
   "metadata": {},
   "outputs": [],
   "source": [
    "def find_next(soup, next_tag):\n",
    "    \"\"\"\n",
    "    Tries to find the next page, or returns an empty string if there is no next page.\n",
    "    :param soup: BeautifulSoup\n",
    "    :param next_tag: string\n",
    "    :return: string\n",
    "    \"\"\"\n",
    "    try:\n",
    "        if next_tag is not None:\n",
    "            return soup.find_all(next_tag, string=\"Next\")[0]['href'][1:]\n",
    "        return \"\"\n",
    "    except:\n",
    "        return \"\"\n",
    "\n",
    "def collect_forum_data(soup_row, tags, soup_row_ok = 0, msg_or_user=\"\", link=\"\"):\n",
    "    \"\"\"\n",
    "    Collects all relevant data (title, link) of a thread.\n",
    "    :param soup_row: BeautifulSoup\n",
    "    :param tags: list\n",
    "    :param soup_row_ok: boolean (0 or 1)\n",
    "    :param msg_or_user: string\n",
    "    :param link: string\n",
    "    :return: dict\n",
    "    \"\"\"\n",
    "    data = {}\n",
    "    try:\n",
    "        if not soup_row_ok:\n",
    "            soup_row = soup_row.find(tags[len(tags) -1])\n",
    "    \n",
    "        data['Title'] = soup_row.text.strip()\n",
    "        data['Link'] = soup_row['href'][1:]\n",
    "        \n",
    "    except:\n",
    "        pass\n",
    "    return data\n",
    "\n",
    "def collect_post_data(soup_row, tags, soup_row_ok, link=\"\"):\n",
    "    \"\"\"\n",
    "    Collects all relevant data of a post (message, user).\n",
    "    :param soup_row: BeautifulSoup\n",
    "    :param tags: list\n",
    "    :param soup_row_ok: boolean (0 or 1)\n",
    "    :param link: string\n",
    "    :return: dict\n",
    "    \"\"\"\n",
    "    data = {}\n",
    "    try:        \n",
    "        data['Link'] = link.replace(PREFIX_URL, '')\n",
    "        \n",
    "        if len(tags) == 2 and not soup_row_ok:\n",
    "            soup_row = soup_row.find_all(tags[len(tags)-1])\n",
    "        if len(tags) == 3:                       \n",
    "            soup_row = soup_row.find_all(tags[len(tags)-1])\n",
    "        elif len(tags) == 4:\n",
    "            soup_row = soup_row.find(tags[2]).find_all(tags[3])\n",
    "        \n",
    "        if soup_row_ok:\n",
    "            data['Any'] = soup_row.text.strip()\n",
    "        elif len(soup_row) > 1:\n",
    "            #concatenate message if it spans over multiple tags (often <p>)\n",
    "            message = ''\n",
    "            for msg in soup_row:\n",
    "                message += msg.text.strip()  \n",
    "            data['Any'] = message\n",
    "        else:\n",
    "            data['Any'] = soup_row[0].text.strip()\n",
    "          \n",
    "    except:\n",
    "        pass\n",
    "    return data\n",
    "\n",
    "def collect_recursively(data, soup, tags, next_tag, fcte_name, link=\"\", index=\"\"):\n",
    "    \"\"\"\n",
    "    Collects data recursively using a collection function from the two above.\n",
    "    :param data: dict\n",
    "    :param soup: BeautifulSoup\n",
    "    :param tags: list\n",
    "    :param next_tag: string\n",
    "    :param fcte_name: function\n",
    "    :param link: string\n",
    "    :param index: int\n",
    "    :return: dict\n",
    "    \"\"\"\n",
    "    try:\n",
    "        if index:\n",
    "            print(index, end='\\r', flush=True)\n",
    "        \n",
    "        soup_row_ok = 0\n",
    "        if len(tags) == 1:\n",
    "            soup_rows = soup.find_all(tags[0])\n",
    "            soup_row_ok = 1\n",
    "        if len(tags) == 2:\n",
    "            soup_rows = soup.find_all(tags[0], {'class': tags[1]})\n",
    "            if not soup_rows:\n",
    "                soup_rows = soup.find_all(tags[0]) \n",
    "            else:\n",
    "                soup_row_ok = 1      \n",
    "        if len(tags) == 3 or len(tags) == 4:\n",
    "            soup_rows = soup.find_all(tags[0], {'class': tags[1]})\n",
    "        \n",
    "        data.extend([fcte_name(soup_row, tags, soup_row_ok, link) for soup_row in soup_rows])\n",
    "        next_url = find_next(soup, next_tag)\n",
    "        if next_url:\n",
    "            soup = BeautifulSoup(requests.get(PREFIX_URL + next_url).text, 'html.parser')\n",
    "            if index:\n",
    "                return collect_recursively(data, soup, tags, next_tag, fcte_name, link, index+1)\n",
    "            else:\n",
    "                return collect_recursively(data, soup, tags, next_tag, fcte_name, link)\n",
    "        else:\n",
    "            return data\n",
    "    except:\n",
    "        pass\n",
    "    return data\n",
    "                \n",
    "def verify_if_treated(soup, tags):\n",
    "    \"\"\"\n",
    "    Verifies if the case is treated yet (depending on the length and composants of the tags).\n",
    "    :param soup: BeautifulSoup\n",
    "    :param tags: list\n",
    "    \"\"\"\n",
    "    if len(tags) > 4 or len(tags) < 1:\n",
    "        print(\"This case is not treated yet\")\n",
    "        \n",
    "    if len(tags) == 3 or len(tags) == 4:\n",
    "        try:\n",
    "            soup.find(tags[0], {'class': tags[1]})\n",
    "        except:\n",
    "            print(\"This case is not treated yet\")\n",
    "    \n",
    "def collect_all_links(soup, tags, next_tag, fcte_name):\n",
    "    \"\"\"\n",
    "    Launches process to collect a dataframe for all threads of a forum (namely collects all links and titles of a forum).\n",
    "    :param soup: BeautifulSoup\n",
    "    :param tags: list\n",
    "    :param next_tag: string\n",
    "    :param fcte_name: function\n",
    "    :return: DataFrame\n",
    "    \"\"\"\n",
    "    verify_if_treated(soup, tags)\n",
    "\n",
    "    data = collect_recursively([], soup, tags, next_tag, fcte_name)\n",
    "    return pd.DataFrame(data).dropna()\n",
    "\n",
    "def collect(forum_df, tags, next_tag, fcte_name):\n",
    "    \"\"\"\n",
    "    Launches process to collect a dataframe for all posts of a thread (namely collects all usernames and messages of a thread).\n",
    "    :param forum_df: DataFrame\n",
    "    :param tags: list\n",
    "    :param next_tag: string\n",
    "    :param data_function: function\n",
    "    :return: DataFrame\n",
    "    \"\"\"\n",
    "    data = []\n",
    "    total = len(forum_df['Link'])\n",
    "    index = 0\n",
    "    for url in forum_df['Link']:\n",
    "        index += 1\n",
    "        print('{} out of {}'.format(index, total), end='\\r', flush=True)\n",
    "        soup = BeautifulSoup(requests.get(PREFIX_URL + url).text, 'html.parser')\n",
    "        verify_if_treated(soup, tags)\n",
    "        data.extend(collect_recursively([], soup, tags, next_tag, fcte_name, url))\n",
    "    return pd.DataFrame(data)"
   ]
  },
  {
   "cell_type": "markdown",
   "metadata": {},
   "source": [
    "### 1.2. Collect all Titles and Links of the Forum"
   ]
  },
  {
   "cell_type": "markdown",
   "metadata": {},
   "source": [
    "Enter the 3 parameters needed:"
   ]
  },
  {
   "cell_type": "code",
   "execution_count": 8,
   "metadata": {},
   "outputs": [],
   "source": [
    "#Holiday Truths (America/Canada Discussion)\n",
    "PREFIX_URL = 'https://www.holidaytruths.co.uk/'\n",
    "START_URL = PREFIX_URL + 'forum/america-canada-discussion-forum-f2-0.html'\n",
    "title1 = 'ESTA question on employment'\n",
    "title2 = 'Vegas Buffets/Restaurants'\n",
    "\n",
    "#Wrong Planet\n",
    "#PREFIX_URL = 'http://wrongplanet.net/forums'\n",
    "#START_URL = PREFIX_URL + '/viewforum.php?f=19'\n",
    "#title1 = 'RE: Kids w/ Classic Autism, PDD-NOS & Speech Delays'\n",
    "#title2 = 'Parents on the spectrum'\n",
    "\n",
    "#Trip Advisor\n",
    "#PREFIX_URL = 'https://www.tripadvisor.co.uk/'\n",
    "#START_URL = PREFIX_URL + 'ShowForum-g1-i12334-Holiday_Travel.html'\n",
    "#title1 = 'See TOP QUESTIONS before posting!'\n",
    "#title2 = 'Use the SEARCH BOX function before posting!'"
   ]
  },
  {
   "cell_type": "code",
   "execution_count": 9,
   "metadata": {},
   "outputs": [],
   "source": [
    "soup = BeautifulSoup(requests.get(START_URL).text, 'html.parser')"
   ]
  },
  {
   "cell_type": "markdown",
   "metadata": {},
   "source": [
    "We find the tags to be able to scrape all titles and links of a forum and the tag needed to find the next page"
   ]
  },
  {
   "cell_type": "code",
   "execution_count": 10,
   "metadata": {},
   "outputs": [
    {
     "name": "stdout",
     "output_type": "stream",
     "text": [
      "I've found the right tags, it's  ['span', 'title', 'a']\n",
      "The tag for next page is  a\n"
     ]
    }
   ],
   "source": [
    "tags = find_tags(soup, title1, title2)\n",
    "next_tag = find_next_tag(soup.find(text=re.compile(\"Next\")), soup, [''])"
   ]
  },
  {
   "cell_type": "markdown",
   "metadata": {},
   "source": [
    "We scrape all titles and links"
   ]
  },
  {
   "cell_type": "code",
   "execution_count": 14,
   "metadata": {},
   "outputs": [
    {
     "data": {
      "text/html": [
       "<div>\n",
       "<style scoped>\n",
       "    .dataframe tbody tr th:only-of-type {\n",
       "        vertical-align: middle;\n",
       "    }\n",
       "\n",
       "    .dataframe tbody tr th {\n",
       "        vertical-align: top;\n",
       "    }\n",
       "\n",
       "    .dataframe thead th {\n",
       "        text-align: right;\n",
       "    }\n",
       "</style>\n",
       "<table border=\"1\" class=\"dataframe\">\n",
       "  <thead>\n",
       "    <tr style=\"text-align: right;\">\n",
       "      <th></th>\n",
       "      <th>Link</th>\n",
       "      <th>Title</th>\n",
       "    </tr>\n",
       "  </thead>\n",
       "  <tbody>\n",
       "    <tr>\n",
       "      <th>0</th>\n",
       "      <td>forum/esta-question-on-employment-t172445.html</td>\n",
       "      <td>ESTA question on employment</td>\n",
       "    </tr>\n",
       "    <tr>\n",
       "      <th>1</th>\n",
       "      <td>forum/vegas-buffets-restaurants-t35799.html</td>\n",
       "      <td>Vegas Buffets/Restaurants</td>\n",
       "    </tr>\n",
       "    <tr>\n",
       "      <th>2</th>\n",
       "      <td>forum/new-york-t173214.html</td>\n",
       "      <td>New York</td>\n",
       "    </tr>\n",
       "    <tr>\n",
       "      <th>3</th>\n",
       "      <td>forum/my-new-york-trip-t172567.html</td>\n",
       "      <td>My New York Trip</td>\n",
       "    </tr>\n",
       "    <tr>\n",
       "      <th>4</th>\n",
       "      <td>forum/best-places-in-colorado-do-kayaking-t172...</td>\n",
       "      <td>Best places in Colorado to do kayaking?</td>\n",
       "    </tr>\n",
       "  </tbody>\n",
       "</table>\n",
       "</div>"
      ],
      "text/plain": [
       "                                                Link  \\\n",
       "0     forum/esta-question-on-employment-t172445.html   \n",
       "1        forum/vegas-buffets-restaurants-t35799.html   \n",
       "2                        forum/new-york-t173214.html   \n",
       "3                forum/my-new-york-trip-t172567.html   \n",
       "4  forum/best-places-in-colorado-do-kayaking-t172...   \n",
       "\n",
       "                                     Title  \n",
       "0              ESTA question on employment  \n",
       "1                Vegas Buffets/Restaurants  \n",
       "2                                 New York  \n",
       "3                         My New York Trip  \n",
       "4  Best places in Colorado to do kayaking?  "
      ]
     },
     "execution_count": 14,
     "metadata": {},
     "output_type": "execute_result"
    }
   ],
   "source": [
    "threads = collect_all_links(soup, tags, next_tag, collect_forum_data)\n",
    "threads.head()"
   ]
  },
  {
   "cell_type": "code",
   "execution_count": 12,
   "metadata": {},
   "outputs": [],
   "source": [
    "threads.to_json('Forum Data/subjects.json')"
   ]
  },
  {
   "cell_type": "markdown",
   "metadata": {},
   "source": [
    "### 1.3. Collect all Usernames, Messages of every Posts in every Link"
   ]
  },
  {
   "cell_type": "markdown",
   "metadata": {},
   "source": [
    "Enter the parameters needed:"
   ]
  },
  {
   "cell_type": "code",
   "execution_count": 15,
   "metadata": {},
   "outputs": [],
   "source": [
    "#Holiday Truths (America/Canada Discussion)\n",
    "user1 = 'AnnaM'\n",
    "user2 = 'Glynis HT Admin'\n",
    "msg1 = 'Hi, I am brand new and hopefully I have put this question in the right area.'\n",
    "msg2 = 'd have thought that was fine. Plenty of retired people travel.'\n",
    "\n",
    "#Wrong Planet\n",
    "#user1 = 'cyberdad'\n",
    "#user2 = 'Solvejg'\n",
    "#msg1 = 'I cope fine in the general parenting area.'\n",
    "#msg2 = 'Yes.'\n",
    "\n",
    "#Trip Advisor\n",
    "#user1 = 'BradJill'\n",
    "#user2 = 'Eden7'\n",
    "#msg1 = 'HOW TO USE THE HOLIDAY TRAVEL FORUM!'\n",
    "#msg2 = 'Great advice BradJill.....'"
   ]
  },
  {
   "cell_type": "code",
   "execution_count": 16,
   "metadata": {},
   "outputs": [],
   "source": [
    "START_URL = PREFIX_URL + threads.Link[0]\n",
    "soup =  BeautifulSoup(requests.get(START_URL).text, 'html.parser')"
   ]
  },
  {
   "cell_type": "markdown",
   "metadata": {},
   "source": [
    "We check that prefix_url is well defined (optional, run this cell if unable to scrape usernames and messages)"
   ]
  },
  {
   "cell_type": "code",
   "execution_count": 17,
   "metadata": {},
   "outputs": [],
   "source": [
    "#if START_URL != right_url:\n",
    "#    print(\"PREFIX_URL wasn't well defined. Please check it.\")"
   ]
  },
  {
   "cell_type": "raw",
   "metadata": {},
   "source": [
    "next_tag will stay the same (in general) as the pages are constructed the same way on the same forum so we don't need to find it again"
   ]
  },
  {
   "cell_type": "markdown",
   "metadata": {},
   "source": [
    "We find the tags to be able to scrape the usernames"
   ]
  },
  {
   "cell_type": "code",
   "execution_count": 18,
   "metadata": {},
   "outputs": [
    {
     "name": "stdout",
     "output_type": "stream",
     "text": [
      "I've found the right tags, it's  ['div', 'user-name', 'a']\n"
     ]
    }
   ],
   "source": [
    "user_tags = find_tags(soup, user1, user2)"
   ]
  },
  {
   "cell_type": "markdown",
   "metadata": {},
   "source": [
    "We scrape all usernames"
   ]
  },
  {
   "cell_type": "code",
   "execution_count": 19,
   "metadata": {},
   "outputs": [
    {
     "name": "stdout",
     "output_type": "stream",
     "text": [
      "1434 out of 1434\r"
     ]
    },
    {
     "data": {
      "text/html": [
       "<div>\n",
       "<style scoped>\n",
       "    .dataframe tbody tr th:only-of-type {\n",
       "        vertical-align: middle;\n",
       "    }\n",
       "\n",
       "    .dataframe tbody tr th {\n",
       "        vertical-align: top;\n",
       "    }\n",
       "\n",
       "    .dataframe thead th {\n",
       "        text-align: right;\n",
       "    }\n",
       "</style>\n",
       "<table border=\"1\" class=\"dataframe\">\n",
       "  <thead>\n",
       "    <tr style=\"text-align: right;\">\n",
       "      <th></th>\n",
       "      <th>Username</th>\n",
       "      <th>Link</th>\n",
       "    </tr>\n",
       "  </thead>\n",
       "  <tbody>\n",
       "    <tr>\n",
       "      <th>0</th>\n",
       "      <td>AnnaM</td>\n",
       "      <td>forum/esta-question-on-employment-t172445.html</td>\n",
       "    </tr>\n",
       "    <tr>\n",
       "      <th>1</th>\n",
       "      <td>Glynis HT Admin</td>\n",
       "      <td>forum/esta-question-on-employment-t172445.html</td>\n",
       "    </tr>\n",
       "    <tr>\n",
       "      <th>2</th>\n",
       "      <td>AnnaM</td>\n",
       "      <td>forum/esta-question-on-employment-t172445.html</td>\n",
       "    </tr>\n",
       "    <tr>\n",
       "      <th>3</th>\n",
       "      <td>Lance Chambers</td>\n",
       "      <td>forum/esta-question-on-employment-t172445.html</td>\n",
       "    </tr>\n",
       "    <tr>\n",
       "      <th>4</th>\n",
       "      <td>AnnaM</td>\n",
       "      <td>forum/esta-question-on-employment-t172445.html</td>\n",
       "    </tr>\n",
       "  </tbody>\n",
       "</table>\n",
       "</div>"
      ],
      "text/plain": [
       "          Username                                            Link\n",
       "0            AnnaM  forum/esta-question-on-employment-t172445.html\n",
       "1  Glynis HT Admin  forum/esta-question-on-employment-t172445.html\n",
       "2            AnnaM  forum/esta-question-on-employment-t172445.html\n",
       "3   Lance Chambers  forum/esta-question-on-employment-t172445.html\n",
       "4            AnnaM  forum/esta-question-on-employment-t172445.html"
      ]
     },
     "execution_count": 19,
     "metadata": {},
     "output_type": "execute_result"
    }
   ],
   "source": [
    "user_posts = collect(threads, user_tags, next_tag, collect_post_data)\n",
    "user_posts.rename(columns={'Any':'Username'}, inplace=True)\n",
    "user_posts.head()"
   ]
  },
  {
   "cell_type": "markdown",
   "metadata": {},
   "source": [
    "We find the tags to be able to scrape the messages"
   ]
  },
  {
   "cell_type": "code",
   "execution_count": 20,
   "metadata": {},
   "outputs": [
    {
     "name": "stdout",
     "output_type": "stream",
     "text": [
      "I've found the right tags, it's  ['div', 'col-md-10']\n"
     ]
    }
   ],
   "source": [
    "message_tags = find_tags(soup, msg1, msg2)"
   ]
  },
  {
   "cell_type": "markdown",
   "metadata": {},
   "source": [
    "We scrape all messages"
   ]
  },
  {
   "cell_type": "code",
   "execution_count": 21,
   "metadata": {},
   "outputs": [
    {
     "name": "stdout",
     "output_type": "stream",
     "text": [
      "1434 out of 1434\r"
     ]
    },
    {
     "data": {
      "text/html": [
       "<div>\n",
       "<style scoped>\n",
       "    .dataframe tbody tr th:only-of-type {\n",
       "        vertical-align: middle;\n",
       "    }\n",
       "\n",
       "    .dataframe tbody tr th {\n",
       "        vertical-align: top;\n",
       "    }\n",
       "\n",
       "    .dataframe thead th {\n",
       "        text-align: right;\n",
       "    }\n",
       "</style>\n",
       "<table border=\"1\" class=\"dataframe\">\n",
       "  <thead>\n",
       "    <tr style=\"text-align: right;\">\n",
       "      <th></th>\n",
       "      <th>Any</th>\n",
       "      <th>Link</th>\n",
       "    </tr>\n",
       "  </thead>\n",
       "  <tbody>\n",
       "    <tr>\n",
       "      <th>0</th>\n",
       "      <td>Hi, I am brand new and hopefully I have put th...</td>\n",
       "      <td>forum/esta-question-on-employment-t172445.html</td>\n",
       "    </tr>\n",
       "    <tr>\n",
       "      <th>1</th>\n",
       "      <td>Hi  Anita &amp;  \\nIf you are retired Anna then I'...</td>\n",
       "      <td>forum/esta-question-on-employment-t172445.html</td>\n",
       "    </tr>\n",
       "    <tr>\n",
       "      <th>2</th>\n",
       "      <td>Thanks for your input, My worry is if I put No...</td>\n",
       "      <td>forum/esta-question-on-employment-t172445.html</td>\n",
       "    </tr>\n",
       "    <tr>\n",
       "      <th>3</th>\n",
       "      <td>This is not the case - they are more concerned...</td>\n",
       "      <td>forum/esta-question-on-employment-t172445.html</td>\n",
       "    </tr>\n",
       "    <tr>\n",
       "      <th>4</th>\n",
       "      <td>They also want to know your parents names?  My...</td>\n",
       "      <td>forum/esta-question-on-employment-t172445.html</td>\n",
       "    </tr>\n",
       "  </tbody>\n",
       "</table>\n",
       "</div>"
      ],
      "text/plain": [
       "                                                 Any  \\\n",
       "0  Hi, I am brand new and hopefully I have put th...   \n",
       "1  Hi  Anita &  \\nIf you are retired Anna then I'...   \n",
       "2  Thanks for your input, My worry is if I put No...   \n",
       "3  This is not the case - they are more concerned...   \n",
       "4  They also want to know your parents names?  My...   \n",
       "\n",
       "                                             Link  \n",
       "0  forum/esta-question-on-employment-t172445.html  \n",
       "1  forum/esta-question-on-employment-t172445.html  \n",
       "2  forum/esta-question-on-employment-t172445.html  \n",
       "3  forum/esta-question-on-employment-t172445.html  \n",
       "4  forum/esta-question-on-employment-t172445.html  "
      ]
     },
     "execution_count": 21,
     "metadata": {},
     "output_type": "execute_result"
    }
   ],
   "source": [
    "message_posts = collect(threads, message_tags, next_tag, collect_post_data)\n",
    "message_posts.head()"
   ]
  },
  {
   "cell_type": "markdown",
   "metadata": {},
   "source": [
    "Sometimes random data is found in the tags of the message (ex. 'p'), this function gets rid of this data"
   ]
  },
  {
   "cell_type": "code",
   "execution_count": 22,
   "metadata": {},
   "outputs": [],
   "source": [
    "def check_messages(data, msg1):\n",
    "    for i in range(0, len(data)-1):\n",
    "        if msg1 in data['Any'][i]:\n",
    "            return i"
   ]
  },
  {
   "cell_type": "code",
   "execution_count": 23,
   "metadata": {},
   "outputs": [
    {
     "name": "stdout",
     "output_type": "stream",
     "text": [
      "index:  0\n"
     ]
    }
   ],
   "source": [
    "index = check_messages(message_posts, msg1)\n",
    "print(\"index: \", index)\n",
    "message_posts['Any'] = message_posts['Any'].iloc[index:]\n",
    "message_posts['Any'] = message_posts['Any'].shift(-index)"
   ]
  },
  {
   "cell_type": "markdown",
   "metadata": {},
   "source": [
    "### 1.4. Merge the Titles, Usernames, Messages to have all Posts"
   ]
  },
  {
   "cell_type": "markdown",
   "metadata": {},
   "source": [
    "We concatenate the messages with the users"
   ]
  },
  {
   "cell_type": "code",
   "execution_count": 24,
   "metadata": {},
   "outputs": [],
   "source": [
    "user_posts['Message'] =  pd.Series(message_posts['Any'], index=user_posts.index)\n",
    "posts= user_posts"
   ]
  },
  {
   "cell_type": "code",
   "execution_count": 25,
   "metadata": {},
   "outputs": [
    {
     "data": {
      "text/html": [
       "<div>\n",
       "<style scoped>\n",
       "    .dataframe tbody tr th:only-of-type {\n",
       "        vertical-align: middle;\n",
       "    }\n",
       "\n",
       "    .dataframe tbody tr th {\n",
       "        vertical-align: top;\n",
       "    }\n",
       "\n",
       "    .dataframe thead th {\n",
       "        text-align: right;\n",
       "    }\n",
       "</style>\n",
       "<table border=\"1\" class=\"dataframe\">\n",
       "  <thead>\n",
       "    <tr style=\"text-align: right;\">\n",
       "      <th></th>\n",
       "      <th>Username</th>\n",
       "      <th>Link</th>\n",
       "      <th>Message</th>\n",
       "    </tr>\n",
       "  </thead>\n",
       "  <tbody>\n",
       "    <tr>\n",
       "      <th>0</th>\n",
       "      <td>AnnaM</td>\n",
       "      <td>forum/esta-question-on-employment-t172445.html</td>\n",
       "      <td>Hi, I am brand new and hopefully I have put th...</td>\n",
       "    </tr>\n",
       "    <tr>\n",
       "      <th>1</th>\n",
       "      <td>Glynis HT Admin</td>\n",
       "      <td>forum/esta-question-on-employment-t172445.html</td>\n",
       "      <td>Hi  Anita &amp;  \\nIf you are retired Anna then I'...</td>\n",
       "    </tr>\n",
       "    <tr>\n",
       "      <th>2</th>\n",
       "      <td>AnnaM</td>\n",
       "      <td>forum/esta-question-on-employment-t172445.html</td>\n",
       "      <td>Thanks for your input, My worry is if I put No...</td>\n",
       "    </tr>\n",
       "    <tr>\n",
       "      <th>3</th>\n",
       "      <td>Lance Chambers</td>\n",
       "      <td>forum/esta-question-on-employment-t172445.html</td>\n",
       "      <td>This is not the case - they are more concerned...</td>\n",
       "    </tr>\n",
       "    <tr>\n",
       "      <th>4</th>\n",
       "      <td>AnnaM</td>\n",
       "      <td>forum/esta-question-on-employment-t172445.html</td>\n",
       "      <td>They also want to know your parents names?  My...</td>\n",
       "    </tr>\n",
       "  </tbody>\n",
       "</table>\n",
       "</div>"
      ],
      "text/plain": [
       "          Username                                            Link  \\\n",
       "0            AnnaM  forum/esta-question-on-employment-t172445.html   \n",
       "1  Glynis HT Admin  forum/esta-question-on-employment-t172445.html   \n",
       "2            AnnaM  forum/esta-question-on-employment-t172445.html   \n",
       "3   Lance Chambers  forum/esta-question-on-employment-t172445.html   \n",
       "4            AnnaM  forum/esta-question-on-employment-t172445.html   \n",
       "\n",
       "                                             Message  \n",
       "0  Hi, I am brand new and hopefully I have put th...  \n",
       "1  Hi  Anita &  \\nIf you are retired Anna then I'...  \n",
       "2  Thanks for your input, My worry is if I put No...  \n",
       "3  This is not the case - they are more concerned...  \n",
       "4  They also want to know your parents names?  My...  "
      ]
     },
     "execution_count": 25,
     "metadata": {},
     "output_type": "execute_result"
    }
   ],
   "source": [
    "posts.head()"
   ]
  },
  {
   "cell_type": "markdown",
   "metadata": {},
   "source": [
    "We merged the messages and usernames with the titles"
   ]
  },
  {
   "cell_type": "code",
   "execution_count": 26,
   "metadata": {},
   "outputs": [],
   "source": [
    "merged_df = pd.merge(threads, posts, on='Link', how='inner')\n",
    "merged_df = merged_df.reindex(sorted(merged_df.columns), axis=1)\n",
    "merged_df.to_json('Forum Data/threads.json')"
   ]
  },
  {
   "cell_type": "code",
   "execution_count": 27,
   "metadata": {},
   "outputs": [
    {
     "data": {
      "text/html": [
       "<div>\n",
       "<style scoped>\n",
       "    .dataframe tbody tr th:only-of-type {\n",
       "        vertical-align: middle;\n",
       "    }\n",
       "\n",
       "    .dataframe tbody tr th {\n",
       "        vertical-align: top;\n",
       "    }\n",
       "\n",
       "    .dataframe thead th {\n",
       "        text-align: right;\n",
       "    }\n",
       "</style>\n",
       "<table border=\"1\" class=\"dataframe\">\n",
       "  <thead>\n",
       "    <tr style=\"text-align: right;\">\n",
       "      <th></th>\n",
       "      <th>Link</th>\n",
       "      <th>Message</th>\n",
       "      <th>Title</th>\n",
       "      <th>Username</th>\n",
       "    </tr>\n",
       "  </thead>\n",
       "  <tbody>\n",
       "    <tr>\n",
       "      <th>0</th>\n",
       "      <td>forum/esta-question-on-employment-t172445.html</td>\n",
       "      <td>Hi, I am brand new and hopefully I have put th...</td>\n",
       "      <td>ESTA question on employment</td>\n",
       "      <td>AnnaM</td>\n",
       "    </tr>\n",
       "    <tr>\n",
       "      <th>1</th>\n",
       "      <td>forum/esta-question-on-employment-t172445.html</td>\n",
       "      <td>Hi  Anita &amp;  \\nIf you are retired Anna then I'...</td>\n",
       "      <td>ESTA question on employment</td>\n",
       "      <td>Glynis HT Admin</td>\n",
       "    </tr>\n",
       "    <tr>\n",
       "      <th>2</th>\n",
       "      <td>forum/esta-question-on-employment-t172445.html</td>\n",
       "      <td>Thanks for your input, My worry is if I put No...</td>\n",
       "      <td>ESTA question on employment</td>\n",
       "      <td>AnnaM</td>\n",
       "    </tr>\n",
       "    <tr>\n",
       "      <th>3</th>\n",
       "      <td>forum/esta-question-on-employment-t172445.html</td>\n",
       "      <td>This is not the case - they are more concerned...</td>\n",
       "      <td>ESTA question on employment</td>\n",
       "      <td>Lance Chambers</td>\n",
       "    </tr>\n",
       "    <tr>\n",
       "      <th>4</th>\n",
       "      <td>forum/esta-question-on-employment-t172445.html</td>\n",
       "      <td>They also want to know your parents names?  My...</td>\n",
       "      <td>ESTA question on employment</td>\n",
       "      <td>AnnaM</td>\n",
       "    </tr>\n",
       "  </tbody>\n",
       "</table>\n",
       "</div>"
      ],
      "text/plain": [
       "                                             Link  \\\n",
       "0  forum/esta-question-on-employment-t172445.html   \n",
       "1  forum/esta-question-on-employment-t172445.html   \n",
       "2  forum/esta-question-on-employment-t172445.html   \n",
       "3  forum/esta-question-on-employment-t172445.html   \n",
       "4  forum/esta-question-on-employment-t172445.html   \n",
       "\n",
       "                                             Message  \\\n",
       "0  Hi, I am brand new and hopefully I have put th...   \n",
       "1  Hi  Anita &  \\nIf you are retired Anna then I'...   \n",
       "2  Thanks for your input, My worry is if I put No...   \n",
       "3  This is not the case - they are more concerned...   \n",
       "4  They also want to know your parents names?  My...   \n",
       "\n",
       "                         Title         Username  \n",
       "0  ESTA question on employment            AnnaM  \n",
       "1  ESTA question on employment  Glynis HT Admin  \n",
       "2  ESTA question on employment            AnnaM  \n",
       "3  ESTA question on employment   Lance Chambers  \n",
       "4  ESTA question on employment            AnnaM  "
      ]
     },
     "execution_count": 27,
     "metadata": {},
     "output_type": "execute_result"
    }
   ],
   "source": [
    "merged_df.head()"
   ]
  },
  {
   "cell_type": "markdown",
   "metadata": {},
   "source": [
    "## 2. Creation of the PKL Files"
   ]
  },
  {
   "cell_type": "code",
   "execution_count": 28,
   "metadata": {},
   "outputs": [],
   "source": [
    "import numpy as np\n",
    "import pandas as pd\n",
    "import nltk"
   ]
  },
  {
   "cell_type": "markdown",
   "metadata": {},
   "source": [
    "We read the data"
   ]
  },
  {
   "cell_type": "code",
   "execution_count": 29,
   "metadata": {},
   "outputs": [],
   "source": [
    "forum_subjects = pd.read_json('Forum Data/subjects.json')\n",
    "forum_threads = pd.read_json('Forum Data/threads.json')"
   ]
  },
  {
   "cell_type": "code",
   "execution_count": 30,
   "metadata": {},
   "outputs": [
    {
     "data": {
      "text/html": [
       "<div>\n",
       "<style scoped>\n",
       "    .dataframe tbody tr th:only-of-type {\n",
       "        vertical-align: middle;\n",
       "    }\n",
       "\n",
       "    .dataframe tbody tr th {\n",
       "        vertical-align: top;\n",
       "    }\n",
       "\n",
       "    .dataframe thead th {\n",
       "        text-align: right;\n",
       "    }\n",
       "</style>\n",
       "<table border=\"1\" class=\"dataframe\">\n",
       "  <thead>\n",
       "    <tr style=\"text-align: right;\">\n",
       "      <th></th>\n",
       "      <th>Link</th>\n",
       "      <th>Title</th>\n",
       "    </tr>\n",
       "  </thead>\n",
       "  <tbody>\n",
       "    <tr>\n",
       "      <th>0</th>\n",
       "      <td>forum/esta-question-on-employment-t172445.html</td>\n",
       "      <td>ESTA question on employment</td>\n",
       "    </tr>\n",
       "    <tr>\n",
       "      <th>1</th>\n",
       "      <td>forum/vegas-buffets-restaurants-t35799.html</td>\n",
       "      <td>Vegas Buffets/Restaurants</td>\n",
       "    </tr>\n",
       "    <tr>\n",
       "      <th>10</th>\n",
       "      <td>forum/new-york-in-march-t172279.html</td>\n",
       "      <td>New York in March</td>\n",
       "    </tr>\n",
       "    <tr>\n",
       "      <th>100</th>\n",
       "      <td>forum/motorhome-rv-holiday-in-arizona-nevada-t...</td>\n",
       "      <td>motorhome/RV holiday in arizona/nevada?</td>\n",
       "    </tr>\n",
       "    <tr>\n",
       "      <th>1000</th>\n",
       "      <td>forum/las-vegas-report-kind-of-t109997.html</td>\n",
       "      <td>Las Vegas Report (Kind Of)</td>\n",
       "    </tr>\n",
       "  </tbody>\n",
       "</table>\n",
       "</div>"
      ],
      "text/plain": [
       "                                                   Link  \\\n",
       "0        forum/esta-question-on-employment-t172445.html   \n",
       "1           forum/vegas-buffets-restaurants-t35799.html   \n",
       "10                 forum/new-york-in-march-t172279.html   \n",
       "100   forum/motorhome-rv-holiday-in-arizona-nevada-t...   \n",
       "1000        forum/las-vegas-report-kind-of-t109997.html   \n",
       "\n",
       "                                        Title  \n",
       "0                 ESTA question on employment  \n",
       "1                   Vegas Buffets/Restaurants  \n",
       "10                          New York in March  \n",
       "100   motorhome/RV holiday in arizona/nevada?  \n",
       "1000               Las Vegas Report (Kind Of)  "
      ]
     },
     "execution_count": 30,
     "metadata": {},
     "output_type": "execute_result"
    }
   ],
   "source": [
    "forum_subjects.head()"
   ]
  },
  {
   "cell_type": "code",
   "execution_count": 31,
   "metadata": {},
   "outputs": [
    {
     "data": {
      "text/html": [
       "<div>\n",
       "<style scoped>\n",
       "    .dataframe tbody tr th:only-of-type {\n",
       "        vertical-align: middle;\n",
       "    }\n",
       "\n",
       "    .dataframe tbody tr th {\n",
       "        vertical-align: top;\n",
       "    }\n",
       "\n",
       "    .dataframe thead th {\n",
       "        text-align: right;\n",
       "    }\n",
       "</style>\n",
       "<table border=\"1\" class=\"dataframe\">\n",
       "  <thead>\n",
       "    <tr style=\"text-align: right;\">\n",
       "      <th></th>\n",
       "      <th>Link</th>\n",
       "      <th>Message</th>\n",
       "      <th>Title</th>\n",
       "      <th>Username</th>\n",
       "    </tr>\n",
       "  </thead>\n",
       "  <tbody>\n",
       "    <tr>\n",
       "      <th>0</th>\n",
       "      <td>forum/esta-question-on-employment-t172445.html</td>\n",
       "      <td>Hi, I am brand new and hopefully I have put th...</td>\n",
       "      <td>ESTA question on employment</td>\n",
       "      <td>AnnaM</td>\n",
       "    </tr>\n",
       "    <tr>\n",
       "      <th>1</th>\n",
       "      <td>forum/esta-question-on-employment-t172445.html</td>\n",
       "      <td>Hi  Anita &amp;  \\nIf you are retired Anna then I'...</td>\n",
       "      <td>ESTA question on employment</td>\n",
       "      <td>Glynis HT Admin</td>\n",
       "    </tr>\n",
       "    <tr>\n",
       "      <th>10</th>\n",
       "      <td>forum/esta-question-on-employment-t172445.html</td>\n",
       "      <td>You will love it!\\n\\n                \\n\\n     ...</td>\n",
       "      <td>ESTA question on employment</td>\n",
       "      <td>Fiona</td>\n",
       "    </tr>\n",
       "    <tr>\n",
       "      <th>100</th>\n",
       "      <td>forum/vegas-buffets-restaurants-t35799.html</td>\n",
       "      <td>Thank you so much for your help!\\n\\n          ...</td>\n",
       "      <td>Vegas Buffets/Restaurants</td>\n",
       "      <td>Zabka</td>\n",
       "    </tr>\n",
       "    <tr>\n",
       "      <th>1000</th>\n",
       "      <td>forum/las-vegas-2012-t152580.html</td>\n",
       "      <td>Re: Las Vegas 2012.....\\n\\n\\n                H...</td>\n",
       "      <td>Las Vegas 2012.....</td>\n",
       "      <td>luci HT Mod</td>\n",
       "    </tr>\n",
       "  </tbody>\n",
       "</table>\n",
       "</div>"
      ],
      "text/plain": [
       "                                                Link  \\\n",
       "0     forum/esta-question-on-employment-t172445.html   \n",
       "1     forum/esta-question-on-employment-t172445.html   \n",
       "10    forum/esta-question-on-employment-t172445.html   \n",
       "100      forum/vegas-buffets-restaurants-t35799.html   \n",
       "1000               forum/las-vegas-2012-t152580.html   \n",
       "\n",
       "                                                Message  \\\n",
       "0     Hi, I am brand new and hopefully I have put th...   \n",
       "1     Hi  Anita &  \\nIf you are retired Anna then I'...   \n",
       "10    You will love it!\\n\\n                \\n\\n     ...   \n",
       "100   Thank you so much for your help!\\n\\n          ...   \n",
       "1000  Re: Las Vegas 2012.....\\n\\n\\n                H...   \n",
       "\n",
       "                            Title         Username  \n",
       "0     ESTA question on employment            AnnaM  \n",
       "1     ESTA question on employment  Glynis HT Admin  \n",
       "10    ESTA question on employment            Fiona  \n",
       "100     Vegas Buffets/Restaurants            Zabka  \n",
       "1000          Las Vegas 2012.....      luci HT Mod  "
      ]
     },
     "execution_count": 31,
     "metadata": {},
     "output_type": "execute_result"
    }
   ],
   "source": [
    "forum_threads.head()"
   ]
  },
  {
   "cell_type": "markdown",
   "metadata": {},
   "source": [
    "If we have data coming from different discussion forums we can concatenate it."
   ]
  },
  {
   "cell_type": "code",
   "execution_count": null,
   "metadata": {},
   "outputs": [],
   "source": [
    "\"\"\"\n",
    "forum_threads_1 = pd.read_json('...')\n",
    "forum_subjects_1 = pd.read_json('...')\n",
    "forum_threads_2 = pd.read_json('...')\n",
    "forum_subjects_2 = pd.read_json('...')\n",
    "\n",
    "forum_subjects = pd.concat([forum_subjects_1, forum_subjects_2], ignore_index= True)\n",
    "forum_threads = pd.concat([forum_threads_1, forum_threads_2], ignore_index= True)\n",
    "\"\"\""
   ]
  },
  {
   "cell_type": "code",
   "execution_count": 34,
   "metadata": {},
   "outputs": [],
   "source": [
    "forum_threads.Message = forum_threads.Message.apply(lambda msg: msg.split('_________________')[0])\n",
    "forum_subjects = forum_subjects.drop_duplicates(subset=['Link'], keep='first')\n",
    "forum_threads = forum_threads.drop_duplicates(subset=['Link', 'Message'], keep='first')"
   ]
  },
  {
   "cell_type": "markdown",
   "metadata": {},
   "source": [
    "The total number of posts is:"
   ]
  },
  {
   "cell_type": "code",
   "execution_count": 35,
   "metadata": {},
   "outputs": [
    {
     "data": {
      "text/plain": [
       "15760"
      ]
     },
     "execution_count": 35,
     "metadata": {},
     "output_type": "execute_result"
    }
   ],
   "source": [
    "len(forum_threads)"
   ]
  },
  {
   "cell_type": "markdown",
   "metadata": {},
   "source": [
    "The total number of threads is:"
   ]
  },
  {
   "cell_type": "code",
   "execution_count": 36,
   "metadata": {},
   "outputs": [
    {
     "data": {
      "text/plain": [
       "1434"
      ]
     },
     "execution_count": 36,
     "metadata": {},
     "output_type": "execute_result"
    }
   ],
   "source": [
    "len(forum_subjects)"
   ]
  },
  {
   "cell_type": "code",
   "execution_count": 37,
   "metadata": {},
   "outputs": [
    {
     "data": {
      "text/html": [
       "<div>\n",
       "<style scoped>\n",
       "    .dataframe tbody tr th:only-of-type {\n",
       "        vertical-align: middle;\n",
       "    }\n",
       "\n",
       "    .dataframe tbody tr th {\n",
       "        vertical-align: top;\n",
       "    }\n",
       "\n",
       "    .dataframe thead th {\n",
       "        text-align: right;\n",
       "    }\n",
       "</style>\n",
       "<table border=\"1\" class=\"dataframe\">\n",
       "  <thead>\n",
       "    <tr style=\"text-align: right;\">\n",
       "      <th></th>\n",
       "      <th>Link</th>\n",
       "      <th>Message</th>\n",
       "      <th>Username</th>\n",
       "      <th>Title</th>\n",
       "    </tr>\n",
       "  </thead>\n",
       "  <tbody>\n",
       "    <tr>\n",
       "      <th>0</th>\n",
       "      <td>forum/esta-question-on-employment-t172445.html</td>\n",
       "      <td>Hi, I am brand new and hopefully I have put th...</td>\n",
       "      <td>AnnaM</td>\n",
       "      <td>ESTA question on employment</td>\n",
       "    </tr>\n",
       "    <tr>\n",
       "      <th>1</th>\n",
       "      <td>forum/esta-question-on-employment-t172445.html</td>\n",
       "      <td>Hi  Anita &amp;  \\nIf you are retired Anna then I'...</td>\n",
       "      <td>Glynis HT Admin</td>\n",
       "      <td>ESTA question on employment</td>\n",
       "    </tr>\n",
       "    <tr>\n",
       "      <th>2</th>\n",
       "      <td>forum/esta-question-on-employment-t172445.html</td>\n",
       "      <td>You will love it!\\n\\n                \\n\\n     ...</td>\n",
       "      <td>Fiona</td>\n",
       "      <td>ESTA question on employment</td>\n",
       "    </tr>\n",
       "    <tr>\n",
       "      <th>3</th>\n",
       "      <td>forum/esta-question-on-employment-t172445.html</td>\n",
       "      <td>Keep your ESTA reference number\\n\\n\\n         ...</td>\n",
       "      <td>James Fletcher</td>\n",
       "      <td>ESTA question on employment</td>\n",
       "    </tr>\n",
       "    <tr>\n",
       "      <th>4</th>\n",
       "      <td>forum/esta-question-on-employment-t172445.html</td>\n",
       "      <td>Thanks for your input, My worry is if I put No...</td>\n",
       "      <td>AnnaM</td>\n",
       "      <td>ESTA question on employment</td>\n",
       "    </tr>\n",
       "  </tbody>\n",
       "</table>\n",
       "</div>"
      ],
      "text/plain": [
       "                                             Link  \\\n",
       "0  forum/esta-question-on-employment-t172445.html   \n",
       "1  forum/esta-question-on-employment-t172445.html   \n",
       "2  forum/esta-question-on-employment-t172445.html   \n",
       "3  forum/esta-question-on-employment-t172445.html   \n",
       "4  forum/esta-question-on-employment-t172445.html   \n",
       "\n",
       "                                             Message         Username  \\\n",
       "0  Hi, I am brand new and hopefully I have put th...            AnnaM   \n",
       "1  Hi  Anita &  \\nIf you are retired Anna then I'...  Glynis HT Admin   \n",
       "2  You will love it!\\n\\n                \\n\\n     ...            Fiona   \n",
       "3  Keep your ESTA reference number\\n\\n\\n         ...   James Fletcher   \n",
       "4  Thanks for your input, My worry is if I put No...            AnnaM   \n",
       "\n",
       "                         Title  \n",
       "0  ESTA question on employment  \n",
       "1  ESTA question on employment  \n",
       "2  ESTA question on employment  \n",
       "3  ESTA question on employment  \n",
       "4  ESTA question on employment  "
      ]
     },
     "execution_count": 37,
     "metadata": {},
     "output_type": "execute_result"
    }
   ],
   "source": [
    "merged_forum_threads = pd.merge(forum_threads.drop(['Title'], axis=1), forum_subjects, \n",
    "                                on='Link', how='inner')\n",
    "merged_forum_threads.to_json('Forum Data/merged.json')\n",
    "merged_forum_threads.head()"
   ]
  },
  {
   "cell_type": "code",
   "execution_count": 38,
   "metadata": {},
   "outputs": [
    {
     "data": {
      "text/plain": [
       "15760"
      ]
     },
     "execution_count": 38,
     "metadata": {},
     "output_type": "execute_result"
    }
   ],
   "source": [
    "len(merged_forum_threads)"
   ]
  },
  {
   "cell_type": "markdown",
   "metadata": {},
   "source": [
    "### 2.1. Sorting Data"
   ]
  },
  {
   "cell_type": "code",
   "execution_count": 39,
   "metadata": {},
   "outputs": [],
   "source": [
    "import nltk.data\n",
    "import subprocess\n",
    "import pandas as pd\n",
    "\n",
    "tokenizer = nltk.data.load('tokenizers/punkt/english.pickle')"
   ]
  },
  {
   "cell_type": "code",
   "execution_count": 40,
   "metadata": {},
   "outputs": [
    {
     "data": {
      "text/html": [
       "<div>\n",
       "<style scoped>\n",
       "    .dataframe tbody tr th:only-of-type {\n",
       "        vertical-align: middle;\n",
       "    }\n",
       "\n",
       "    .dataframe tbody tr th {\n",
       "        vertical-align: top;\n",
       "    }\n",
       "\n",
       "    .dataframe thead th {\n",
       "        text-align: right;\n",
       "    }\n",
       "</style>\n",
       "<table border=\"1\" class=\"dataframe\">\n",
       "  <thead>\n",
       "    <tr style=\"text-align: right;\">\n",
       "      <th></th>\n",
       "      <th>Link</th>\n",
       "      <th>Message</th>\n",
       "      <th>Title</th>\n",
       "      <th>Username</th>\n",
       "    </tr>\n",
       "  </thead>\n",
       "  <tbody>\n",
       "    <tr>\n",
       "      <th>0</th>\n",
       "      <td>forum/esta-question-on-employment-t172445.html</td>\n",
       "      <td>Hi, I am brand new and hopefully I have put th...</td>\n",
       "      <td>ESTA question on employment</td>\n",
       "      <td>AnnaM</td>\n",
       "    </tr>\n",
       "    <tr>\n",
       "      <th>1</th>\n",
       "      <td>forum/esta-question-on-employment-t172445.html</td>\n",
       "      <td>Hi  Anita &amp;  \\nIf you are retired Anna then I'...</td>\n",
       "      <td>ESTA question on employment</td>\n",
       "      <td>Glynis HT Admin</td>\n",
       "    </tr>\n",
       "    <tr>\n",
       "      <th>10</th>\n",
       "      <td>forum/esta-question-on-employment-t172445.html</td>\n",
       "      <td>Is that the Cosmos one? Haven't been to LA but...</td>\n",
       "      <td>ESTA question on employment</td>\n",
       "      <td>Fiona</td>\n",
       "    </tr>\n",
       "    <tr>\n",
       "      <th>100</th>\n",
       "      <td>forum/vegas-buffets-restaurants-t35799.html</td>\n",
       "      <td>Ah, the legendary Cheesecake Factory... people...</td>\n",
       "      <td>Vegas Buffets/Restaurants</td>\n",
       "      <td>grayejectbutton</td>\n",
       "    </tr>\n",
       "    <tr>\n",
       "      <th>1000</th>\n",
       "      <td>forum/fort-lauderdale-miami-t114861.html</td>\n",
       "      <td>Re: Fort Lauderdale to Miami\\n\\n\\n            ...</td>\n",
       "      <td>Fort Lauderdale to Miami</td>\n",
       "      <td>anstruther</td>\n",
       "    </tr>\n",
       "  </tbody>\n",
       "</table>\n",
       "</div>"
      ],
      "text/plain": [
       "                                                Link  \\\n",
       "0     forum/esta-question-on-employment-t172445.html   \n",
       "1     forum/esta-question-on-employment-t172445.html   \n",
       "10    forum/esta-question-on-employment-t172445.html   \n",
       "100      forum/vegas-buffets-restaurants-t35799.html   \n",
       "1000        forum/fort-lauderdale-miami-t114861.html   \n",
       "\n",
       "                                                Message  \\\n",
       "0     Hi, I am brand new and hopefully I have put th...   \n",
       "1     Hi  Anita &  \\nIf you are retired Anna then I'...   \n",
       "10    Is that the Cosmos one? Haven't been to LA but...   \n",
       "100   Ah, the legendary Cheesecake Factory... people...   \n",
       "1000  Re: Fort Lauderdale to Miami\\n\\n\\n            ...   \n",
       "\n",
       "                            Title         Username  \n",
       "0     ESTA question on employment            AnnaM  \n",
       "1     ESTA question on employment  Glynis HT Admin  \n",
       "10    ESTA question on employment            Fiona  \n",
       "100     Vegas Buffets/Restaurants  grayejectbutton  \n",
       "1000     Fort Lauderdale to Miami       anstruther  "
      ]
     },
     "execution_count": 40,
     "metadata": {},
     "output_type": "execute_result"
    }
   ],
   "source": [
    "df = pd.read_json('Forum Data/merged.json')\n",
    "df = df[df['Message'].map(lambda x: x is not None)]\n",
    "df.head()"
   ]
  },
  {
   "cell_type": "markdown",
   "metadata": {},
   "source": [
    "We find the first post of every threads."
   ]
  },
  {
   "cell_type": "code",
   "execution_count": 41,
   "metadata": {},
   "outputs": [
    {
     "data": {
      "text/html": [
       "<div>\n",
       "<style scoped>\n",
       "    .dataframe tbody tr th:only-of-type {\n",
       "        vertical-align: middle;\n",
       "    }\n",
       "\n",
       "    .dataframe tbody tr th {\n",
       "        vertical-align: top;\n",
       "    }\n",
       "\n",
       "    .dataframe thead th {\n",
       "        text-align: right;\n",
       "    }\n",
       "</style>\n",
       "<table border=\"1\" class=\"dataframe\">\n",
       "  <thead>\n",
       "    <tr style=\"text-align: right;\">\n",
       "      <th></th>\n",
       "      <th>Link</th>\n",
       "      <th>Title</th>\n",
       "      <th>Seeker</th>\n",
       "      <th>First_Post</th>\n",
       "    </tr>\n",
       "  </thead>\n",
       "  <tbody>\n",
       "    <tr>\n",
       "      <th>0</th>\n",
       "      <td>forum/-20-dollar-trick-t110905.html</td>\n",
       "      <td>$20 Dollar trick</td>\n",
       "      <td>jac47</td>\n",
       "      <td>just returned from our first trip to vegas.\\nI...</td>\n",
       "    </tr>\n",
       "    <tr>\n",
       "      <th>1</th>\n",
       "      <td>forum/-toronto-halal-t102178.html</td>\n",
       "      <td>--Toronto- halal--</td>\n",
       "      <td>Just_a_tourist</td>\n",
       "      <td>Hi! Does anyone know good places where they se...</td>\n",
       "    </tr>\n",
       "    <tr>\n",
       "      <th>2</th>\n",
       "      <td>forum/1st-time-florida-help-t141308.html</td>\n",
       "      <td>1st Time to Florida HELP!!!</td>\n",
       "      <td>Lelly</td>\n",
       "      <td>Hello, we are a family of 5 going to Florida f...</td>\n",
       "    </tr>\n",
       "    <tr>\n",
       "      <th>3</th>\n",
       "      <td>forum/1st-time-florida-whats-nearby-t153058.html</td>\n",
       "      <td>1st time florida - whats nearby</td>\n",
       "      <td>cart583</td>\n",
       "      <td>hi, never been to florida before but have book...</td>\n",
       "    </tr>\n",
       "    <tr>\n",
       "      <th>4</th>\n",
       "      <td>forum/1st-time-new-york-booking-advice-t126856...</td>\n",
       "      <td>1st time New York / booking advice</td>\n",
       "      <td>seagull</td>\n",
       "      <td>Starting to look into booking a break in New Y...</td>\n",
       "    </tr>\n",
       "  </tbody>\n",
       "</table>\n",
       "</div>"
      ],
      "text/plain": [
       "                                                Link  \\\n",
       "0                forum/-20-dollar-trick-t110905.html   \n",
       "1                  forum/-toronto-halal-t102178.html   \n",
       "2           forum/1st-time-florida-help-t141308.html   \n",
       "3   forum/1st-time-florida-whats-nearby-t153058.html   \n",
       "4  forum/1st-time-new-york-booking-advice-t126856...   \n",
       "\n",
       "                                Title          Seeker  \\\n",
       "0                    $20 Dollar trick           jac47   \n",
       "1                  --Toronto- halal--  Just_a_tourist   \n",
       "2         1st Time to Florida HELP!!!           Lelly   \n",
       "3     1st time florida - whats nearby         cart583   \n",
       "4  1st time New York / booking advice         seagull   \n",
       "\n",
       "                                          First_Post  \n",
       "0  just returned from our first trip to vegas.\\nI...  \n",
       "1  Hi! Does anyone know good places where they se...  \n",
       "2  Hello, we are a family of 5 going to Florida f...  \n",
       "3  hi, never been to florida before but have book...  \n",
       "4  Starting to look into booking a break in New Y...  "
      ]
     },
     "execution_count": 41,
     "metadata": {},
     "output_type": "execute_result"
    }
   ],
   "source": [
    "titles_with_first_post = df.groupby('Link').first().reset_index()[['Link', 'Title', 'Username', 'Message']]\n",
    "titles_with_first_post.columns = ['Link', 'Title', 'Seeker', 'First_Post']\n",
    "titles_with_first_post.head()"
   ]
  },
  {
   "cell_type": "code",
   "execution_count": 42,
   "metadata": {
    "scrolled": true
   },
   "outputs": [
    {
     "data": {
      "text/html": [
       "<div>\n",
       "<style scoped>\n",
       "    .dataframe tbody tr th:only-of-type {\n",
       "        vertical-align: middle;\n",
       "    }\n",
       "\n",
       "    .dataframe tbody tr th {\n",
       "        vertical-align: top;\n",
       "    }\n",
       "\n",
       "    .dataframe thead th {\n",
       "        text-align: right;\n",
       "    }\n",
       "</style>\n",
       "<table border=\"1\" class=\"dataframe\">\n",
       "  <thead>\n",
       "    <tr style=\"text-align: right;\">\n",
       "      <th></th>\n",
       "      <th>Link</th>\n",
       "      <th>Title</th>\n",
       "      <th>Seeker</th>\n",
       "      <th>First_Post</th>\n",
       "    </tr>\n",
       "  </thead>\n",
       "  <tbody>\n",
       "    <tr>\n",
       "      <th>0</th>\n",
       "      <td>forum/-20-dollar-trick-t110905.html</td>\n",
       "      <td>[$20 Dollar trick]</td>\n",
       "      <td>jac47</td>\n",
       "      <td>[just returned from our first trip to vegas..I...</td>\n",
       "    </tr>\n",
       "    <tr>\n",
       "      <th>1</th>\n",
       "      <td>forum/-toronto-halal-t102178.html</td>\n",
       "      <td>[--Toronto- halal--]</td>\n",
       "      <td>Just_a_tourist</td>\n",
       "      <td>[Hi!, Does anyone know good places where they ...</td>\n",
       "    </tr>\n",
       "    <tr>\n",
       "      <th>2</th>\n",
       "      <td>forum/1st-time-florida-help-t141308.html</td>\n",
       "      <td>[1st Time to Florida HELP!!]</td>\n",
       "      <td>Lelly</td>\n",
       "      <td>[Hello, we are a family of 5 going to Florida ...</td>\n",
       "    </tr>\n",
       "    <tr>\n",
       "      <th>3</th>\n",
       "      <td>forum/1st-time-florida-whats-nearby-t153058.html</td>\n",
       "      <td>[1st time florida - whats nearby]</td>\n",
       "      <td>cart583</td>\n",
       "      <td>[hi, never been to florida before but have boo...</td>\n",
       "    </tr>\n",
       "    <tr>\n",
       "      <th>4</th>\n",
       "      <td>forum/1st-time-new-york-booking-advice-t126856...</td>\n",
       "      <td>[1st time New York / booking advice]</td>\n",
       "      <td>seagull</td>\n",
       "      <td>[Starting to look into booking a break in New ...</td>\n",
       "    </tr>\n",
       "  </tbody>\n",
       "</table>\n",
       "</div>"
      ],
      "text/plain": [
       "                                                Link  \\\n",
       "0                forum/-20-dollar-trick-t110905.html   \n",
       "1                  forum/-toronto-halal-t102178.html   \n",
       "2           forum/1st-time-florida-help-t141308.html   \n",
       "3   forum/1st-time-florida-whats-nearby-t153058.html   \n",
       "4  forum/1st-time-new-york-booking-advice-t126856...   \n",
       "\n",
       "                                  Title          Seeker  \\\n",
       "0                    [$20 Dollar trick]           jac47   \n",
       "1                  [--Toronto- halal--]  Just_a_tourist   \n",
       "2          [1st Time to Florida HELP!!]           Lelly   \n",
       "3     [1st time florida - whats nearby]         cart583   \n",
       "4  [1st time New York / booking advice]         seagull   \n",
       "\n",
       "                                          First_Post  \n",
       "0  [just returned from our first trip to vegas..I...  \n",
       "1  [Hi!, Does anyone know good places where they ...  \n",
       "2  [Hello, we are a family of 5 going to Florida ...  \n",
       "3  [hi, never been to florida before but have boo...  \n",
       "4  [Starting to look into booking a break in New ...  "
      ]
     },
     "execution_count": 42,
     "metadata": {},
     "output_type": "execute_result"
    }
   ],
   "source": [
    "def tokenize_properly(text):\n",
    "    if text is not None:\n",
    "        r = [sent for sent in tokenizer.tokenize(text.replace('\\n', '.')) \n",
    "            if len(sent.replace('.', '').replace(' ', '')) >= 2]\n",
    "        return r\n",
    "\n",
    "titles_with_first_post.Title = titles_with_first_post.Title.apply(tokenize_properly)\n",
    "titles_with_first_post.First_Post = titles_with_first_post.First_Post.apply(tokenize_properly)\n",
    "titles_with_first_post.head()"
   ]
  },
  {
   "cell_type": "markdown",
   "metadata": {},
   "source": [
    "An approach is to put the titles and the first posts in lower case."
   ]
  },
  {
   "cell_type": "code",
   "execution_count": 43,
   "metadata": {},
   "outputs": [],
   "source": [
    "def lower(text):\n",
    "    if text is not None:\n",
    "        r = [s.lower() for s in text]\n",
    "        return r\n",
    "#titles_with_first_post.Title = titles_with_first_post.Title.apply(lower)\n",
    "#titles_with_first_post.First_Post = titles_with_first_post.First_Post.apply(lower)\n",
    "#titles_with_first_post.head()"
   ]
  },
  {
   "cell_type": "markdown",
   "metadata": {},
   "source": [
    "We count the number of sentences for the titles and the first posts."
   ]
  },
  {
   "cell_type": "code",
   "execution_count": 44,
   "metadata": {},
   "outputs": [
    {
     "data": {
      "text/html": [
       "<div>\n",
       "<style scoped>\n",
       "    .dataframe tbody tr th:only-of-type {\n",
       "        vertical-align: middle;\n",
       "    }\n",
       "\n",
       "    .dataframe tbody tr th {\n",
       "        vertical-align: top;\n",
       "    }\n",
       "\n",
       "    .dataframe thead th {\n",
       "        text-align: right;\n",
       "    }\n",
       "</style>\n",
       "<table border=\"1\" class=\"dataframe\">\n",
       "  <thead>\n",
       "    <tr style=\"text-align: right;\">\n",
       "      <th></th>\n",
       "      <th>Link</th>\n",
       "      <th>Title</th>\n",
       "      <th>Seeker</th>\n",
       "      <th>First_Post</th>\n",
       "      <th>Title_sent_count</th>\n",
       "      <th>FP_sent_count</th>\n",
       "    </tr>\n",
       "  </thead>\n",
       "  <tbody>\n",
       "    <tr>\n",
       "      <th>0</th>\n",
       "      <td>forum/-20-dollar-trick-t110905.html</td>\n",
       "      <td>[$20 Dollar trick]</td>\n",
       "      <td>jac47</td>\n",
       "      <td>[just returned from our first trip to vegas..I...</td>\n",
       "      <td>1</td>\n",
       "      <td>3</td>\n",
       "    </tr>\n",
       "    <tr>\n",
       "      <th>1</th>\n",
       "      <td>forum/-toronto-halal-t102178.html</td>\n",
       "      <td>[--Toronto- halal--]</td>\n",
       "      <td>Just_a_tourist</td>\n",
       "      <td>[Hi!, Does anyone know good places where they ...</td>\n",
       "      <td>1</td>\n",
       "      <td>3</td>\n",
       "    </tr>\n",
       "    <tr>\n",
       "      <th>2</th>\n",
       "      <td>forum/1st-time-florida-help-t141308.html</td>\n",
       "      <td>[1st Time to Florida HELP!!]</td>\n",
       "      <td>Lelly</td>\n",
       "      <td>[Hello, we are a family of 5 going to Florida ...</td>\n",
       "      <td>1</td>\n",
       "      <td>7</td>\n",
       "    </tr>\n",
       "    <tr>\n",
       "      <th>3</th>\n",
       "      <td>forum/1st-time-florida-whats-nearby-t153058.html</td>\n",
       "      <td>[1st time florida - whats nearby]</td>\n",
       "      <td>cart583</td>\n",
       "      <td>[hi, never been to florida before but have boo...</td>\n",
       "      <td>1</td>\n",
       "      <td>7</td>\n",
       "    </tr>\n",
       "    <tr>\n",
       "      <th>4</th>\n",
       "      <td>forum/1st-time-new-york-booking-advice-t126856...</td>\n",
       "      <td>[1st time New York / booking advice]</td>\n",
       "      <td>seagull</td>\n",
       "      <td>[Starting to look into booking a break in New ...</td>\n",
       "      <td>1</td>\n",
       "      <td>1</td>\n",
       "    </tr>\n",
       "  </tbody>\n",
       "</table>\n",
       "</div>"
      ],
      "text/plain": [
       "                                                Link  \\\n",
       "0                forum/-20-dollar-trick-t110905.html   \n",
       "1                  forum/-toronto-halal-t102178.html   \n",
       "2           forum/1st-time-florida-help-t141308.html   \n",
       "3   forum/1st-time-florida-whats-nearby-t153058.html   \n",
       "4  forum/1st-time-new-york-booking-advice-t126856...   \n",
       "\n",
       "                                  Title          Seeker  \\\n",
       "0                    [$20 Dollar trick]           jac47   \n",
       "1                  [--Toronto- halal--]  Just_a_tourist   \n",
       "2          [1st Time to Florida HELP!!]           Lelly   \n",
       "3     [1st time florida - whats nearby]         cart583   \n",
       "4  [1st time New York / booking advice]         seagull   \n",
       "\n",
       "                                          First_Post  Title_sent_count  \\\n",
       "0  [just returned from our first trip to vegas..I...                 1   \n",
       "1  [Hi!, Does anyone know good places where they ...                 1   \n",
       "2  [Hello, we are a family of 5 going to Florida ...                 1   \n",
       "3  [hi, never been to florida before but have boo...                 1   \n",
       "4  [Starting to look into booking a break in New ...                 1   \n",
       "\n",
       "   FP_sent_count  \n",
       "0              3  \n",
       "1              3  \n",
       "2              7  \n",
       "3              7  \n",
       "4              1  "
      ]
     },
     "execution_count": 44,
     "metadata": {},
     "output_type": "execute_result"
    }
   ],
   "source": [
    "titles_with_first_post['Title_sent_count'] = titles_with_first_post.Title.apply(len)\n",
    "titles_with_first_post['FP_sent_count'] = titles_with_first_post.First_Post.apply(len)\n",
    "titles_with_first_post.head()"
   ]
  },
  {
   "cell_type": "markdown",
   "metadata": {},
   "source": [
    "Another approach is to clean the replies as for example \"Reply\" or \"Re: title of the post\" are not useful to find the best answer."
   ]
  },
  {
   "cell_type": "code",
   "execution_count": 47,
   "metadata": {},
   "outputs": [],
   "source": [
    "def cleaning_replies(text):\n",
    "    if text is not None:\n",
    "        r = [s for s in text if not s.startswith('Re:') and not s.startswith(\"Reply\") ]\n",
    "        return r"
   ]
  },
  {
   "cell_type": "markdown",
   "metadata": {},
   "source": [
    "We get rid of everything the author of the first post is saying, we tokenize the data and we count the number of sentences of the replies."
   ]
  },
  {
   "cell_type": "code",
   "execution_count": 48,
   "metadata": {
    "scrolled": true
   },
   "outputs": [
    {
     "data": {
      "text/html": [
       "<div>\n",
       "<style scoped>\n",
       "    .dataframe tbody tr th:only-of-type {\n",
       "        vertical-align: middle;\n",
       "    }\n",
       "\n",
       "    .dataframe tbody tr th {\n",
       "        vertical-align: top;\n",
       "    }\n",
       "\n",
       "    .dataframe thead th {\n",
       "        text-align: right;\n",
       "    }\n",
       "</style>\n",
       "<table border=\"1\" class=\"dataframe\">\n",
       "  <thead>\n",
       "    <tr style=\"text-align: right;\">\n",
       "      <th></th>\n",
       "      <th>Link</th>\n",
       "      <th>Title</th>\n",
       "      <th>Seeker</th>\n",
       "      <th>First_Post</th>\n",
       "      <th>Title_sent_count</th>\n",
       "      <th>FP_sent_count</th>\n",
       "      <th>Replier</th>\n",
       "      <th>Reply</th>\n",
       "      <th>Reply_sent_count</th>\n",
       "    </tr>\n",
       "  </thead>\n",
       "  <tbody>\n",
       "    <tr>\n",
       "      <th>1</th>\n",
       "      <td>forum/-20-dollar-trick-t110905.html</td>\n",
       "      <td>[$20 Dollar trick]</td>\n",
       "      <td>jac47</td>\n",
       "      <td>[just returned from our first trip to vegas..I...</td>\n",
       "      <td>1</td>\n",
       "      <td>3</td>\n",
       "      <td>luci HT Mod</td>\n",
       "      <td>[Excellent news jac!, I'm so pleased you tried...</td>\n",
       "      <td>2</td>\n",
       "    </tr>\n",
       "    <tr>\n",
       "      <th>2</th>\n",
       "      <td>forum/-20-dollar-trick-t110905.html</td>\n",
       "      <td>[$20 Dollar trick]</td>\n",
       "      <td>jac47</td>\n",
       "      <td>[just returned from our first trip to vegas..I...</td>\n",
       "      <td>1</td>\n",
       "      <td>3</td>\n",
       "      <td>lesley74</td>\n",
       "      <td>[I love the $20 trick but I haven't tried it f...</td>\n",
       "      <td>1</td>\n",
       "    </tr>\n",
       "    <tr>\n",
       "      <th>3</th>\n",
       "      <td>forum/-20-dollar-trick-t110905.html</td>\n",
       "      <td>[$20 Dollar trick]</td>\n",
       "      <td>jac47</td>\n",
       "      <td>[just returned from our first trip to vegas..I...</td>\n",
       "      <td>1</td>\n",
       "      <td>3</td>\n",
       "      <td>luci HT Mod</td>\n",
       "      <td>[Tried it at the Bellagio in November and got ...</td>\n",
       "      <td>5</td>\n",
       "    </tr>\n",
       "    <tr>\n",
       "      <th>4</th>\n",
       "      <td>forum/-20-dollar-trick-t110905.html</td>\n",
       "      <td>[$20 Dollar trick]</td>\n",
       "      <td>jac47</td>\n",
       "      <td>[just returned from our first trip to vegas..I...</td>\n",
       "      <td>1</td>\n",
       "      <td>3</td>\n",
       "      <td>kiershay</td>\n",
       "      <td>[]</td>\n",
       "      <td>0</td>\n",
       "    </tr>\n",
       "    <tr>\n",
       "      <th>5</th>\n",
       "      <td>forum/-20-dollar-trick-t110905.html</td>\n",
       "      <td>[$20 Dollar trick]</td>\n",
       "      <td>jac47</td>\n",
       "      <td>[just returned from our first trip to vegas..I...</td>\n",
       "      <td>1</td>\n",
       "      <td>3</td>\n",
       "      <td>luci HT Mod</td>\n",
       "      <td>[The suggested method is, when they ask for yo...</td>\n",
       "      <td>4</td>\n",
       "    </tr>\n",
       "  </tbody>\n",
       "</table>\n",
       "</div>"
      ],
      "text/plain": [
       "                                  Link               Title Seeker  \\\n",
       "1  forum/-20-dollar-trick-t110905.html  [$20 Dollar trick]  jac47   \n",
       "2  forum/-20-dollar-trick-t110905.html  [$20 Dollar trick]  jac47   \n",
       "3  forum/-20-dollar-trick-t110905.html  [$20 Dollar trick]  jac47   \n",
       "4  forum/-20-dollar-trick-t110905.html  [$20 Dollar trick]  jac47   \n",
       "5  forum/-20-dollar-trick-t110905.html  [$20 Dollar trick]  jac47   \n",
       "\n",
       "                                          First_Post  Title_sent_count  \\\n",
       "1  [just returned from our first trip to vegas..I...                 1   \n",
       "2  [just returned from our first trip to vegas..I...                 1   \n",
       "3  [just returned from our first trip to vegas..I...                 1   \n",
       "4  [just returned from our first trip to vegas..I...                 1   \n",
       "5  [just returned from our first trip to vegas..I...                 1   \n",
       "\n",
       "   FP_sent_count      Replier  \\\n",
       "1              3  luci HT Mod   \n",
       "2              3     lesley74   \n",
       "3              3  luci HT Mod   \n",
       "4              3     kiershay   \n",
       "5              3  luci HT Mod   \n",
       "\n",
       "                                               Reply  Reply_sent_count  \n",
       "1  [Excellent news jac!, I'm so pleased you tried...                 2  \n",
       "2  [I love the $20 trick but I haven't tried it f...                 1  \n",
       "3  [Tried it at the Bellagio in November and got ...                 5  \n",
       "4                                                 []                 0  \n",
       "5  [The suggested method is, when they ask for yo...                 4  "
      ]
     },
     "execution_count": 48,
     "metadata": {},
     "output_type": "execute_result"
    }
   ],
   "source": [
    "titles_with_messages = pd.merge(titles_with_first_post, \n",
    "                                df[['Username', 'Message', 'Link']], on='Link')\n",
    "titles_with_messages.rename(columns={'Username':'Replier'}, inplace=True)\n",
    "titles_with_messages = titles_with_messages[titles_with_messages.apply(\n",
    "    lambda row: not row['First_Post'] == row['Message'] and not row['Seeker'] == row['Replier'], axis=1)]\n",
    "titles_with_messages.Message = titles_with_messages.Message.apply(tokenize_properly)\n",
    "#titles_with_messages.Message = titles_with_messages.Message.apply(cleaning_replies)\n",
    "titles_with_messages.rename(columns={'Message': 'Reply'}, inplace=True)\n",
    "titles_with_messages['Reply_sent_count'] = titles_with_messages.Reply.apply(len)\n",
    "titles_with_messages.head()"
   ]
  },
  {
   "cell_type": "code",
   "execution_count": 49,
   "metadata": {},
   "outputs": [
    {
     "data": {
      "text/plain": [
       "Index(['Link', 'Title', 'Seeker', 'First_Post', 'Title_sent_count',\n",
       "       'FP_sent_count', 'Replier', 'Reply', 'Reply_sent_count'],\n",
       "      dtype='object')"
      ]
     },
     "execution_count": 49,
     "metadata": {},
     "output_type": "execute_result"
    }
   ],
   "source": [
    "titles_with_messages.columns"
   ]
  },
  {
   "cell_type": "code",
   "execution_count": 50,
   "metadata": {},
   "outputs": [
    {
     "data": {
      "text/plain": [
       "11818"
      ]
     },
     "execution_count": 50,
     "metadata": {},
     "output_type": "execute_result"
    }
   ],
   "source": [
    "len(titles_with_messages)"
   ]
  },
  {
   "cell_type": "code",
   "execution_count": 51,
   "metadata": {},
   "outputs": [
    {
     "data": {
      "text/html": [
       "<div>\n",
       "<style scoped>\n",
       "    .dataframe tbody tr th:only-of-type {\n",
       "        vertical-align: middle;\n",
       "    }\n",
       "\n",
       "    .dataframe tbody tr th {\n",
       "        vertical-align: top;\n",
       "    }\n",
       "\n",
       "    .dataframe thead th {\n",
       "        text-align: right;\n",
       "    }\n",
       "</style>\n",
       "<table border=\"1\" class=\"dataframe\">\n",
       "  <thead>\n",
       "    <tr style=\"text-align: right;\">\n",
       "      <th></th>\n",
       "      <th>Link</th>\n",
       "      <th>Reply</th>\n",
       "    </tr>\n",
       "  </thead>\n",
       "  <tbody>\n",
       "    <tr>\n",
       "      <th>1</th>\n",
       "      <td>forum/-20-dollar-trick-t110905.html</td>\n",
       "      <td>[Excellent news jac!, I'm so pleased you tried...</td>\n",
       "    </tr>\n",
       "    <tr>\n",
       "      <th>2</th>\n",
       "      <td>forum/-20-dollar-trick-t110905.html</td>\n",
       "      <td>[I love the $20 trick but I haven't tried it f...</td>\n",
       "    </tr>\n",
       "    <tr>\n",
       "      <th>3</th>\n",
       "      <td>forum/-20-dollar-trick-t110905.html</td>\n",
       "      <td>[Tried it at the Bellagio in November and got ...</td>\n",
       "    </tr>\n",
       "    <tr>\n",
       "      <th>4</th>\n",
       "      <td>forum/-20-dollar-trick-t110905.html</td>\n",
       "      <td>[]</td>\n",
       "    </tr>\n",
       "    <tr>\n",
       "      <th>5</th>\n",
       "      <td>forum/-20-dollar-trick-t110905.html</td>\n",
       "      <td>[The suggested method is, when they ask for yo...</td>\n",
       "    </tr>\n",
       "  </tbody>\n",
       "</table>\n",
       "</div>"
      ],
      "text/plain": [
       "                                  Link  \\\n",
       "1  forum/-20-dollar-trick-t110905.html   \n",
       "2  forum/-20-dollar-trick-t110905.html   \n",
       "3  forum/-20-dollar-trick-t110905.html   \n",
       "4  forum/-20-dollar-trick-t110905.html   \n",
       "5  forum/-20-dollar-trick-t110905.html   \n",
       "\n",
       "                                               Reply  \n",
       "1  [Excellent news jac!, I'm so pleased you tried...  \n",
       "2  [I love the $20 trick but I haven't tried it f...  \n",
       "3  [Tried it at the Bellagio in November and got ...  \n",
       "4                                                 []  \n",
       "5  [The suggested method is, when they ask for yo...  "
      ]
     },
     "execution_count": 51,
     "metadata": {},
     "output_type": "execute_result"
    }
   ],
   "source": [
    "CHOSEN_COLUMNS = ['Link', 'Reply']\n",
    "titles_with_messages[CHOSEN_COLUMNS].head()"
   ]
  },
  {
   "cell_type": "code",
   "execution_count": 52,
   "metadata": {},
   "outputs": [
    {
     "data": {
      "text/html": [
       "<div>\n",
       "<style scoped>\n",
       "    .dataframe tbody tr th:only-of-type {\n",
       "        vertical-align: middle;\n",
       "    }\n",
       "\n",
       "    .dataframe tbody tr th {\n",
       "        vertical-align: top;\n",
       "    }\n",
       "\n",
       "    .dataframe thead th {\n",
       "        text-align: right;\n",
       "    }\n",
       "</style>\n",
       "<table border=\"1\" class=\"dataframe\">\n",
       "  <thead>\n",
       "    <tr style=\"text-align: right;\">\n",
       "      <th></th>\n",
       "      <th>Link</th>\n",
       "      <th>Reply</th>\n",
       "    </tr>\n",
       "  </thead>\n",
       "  <tbody>\n",
       "    <tr>\n",
       "      <th>1</th>\n",
       "      <td>forum/-20-dollar-trick-t110905.html</td>\n",
       "      <td>[Excellent news jac!, I'm so pleased you tried...</td>\n",
       "    </tr>\n",
       "    <tr>\n",
       "      <th>2</th>\n",
       "      <td>forum/-20-dollar-trick-t110905.html</td>\n",
       "      <td>[I love the $20 trick but I haven't tried it f...</td>\n",
       "    </tr>\n",
       "    <tr>\n",
       "      <th>3</th>\n",
       "      <td>forum/-20-dollar-trick-t110905.html</td>\n",
       "      <td>[Tried it at the Bellagio in November and got ...</td>\n",
       "    </tr>\n",
       "    <tr>\n",
       "      <th>4</th>\n",
       "      <td>forum/-20-dollar-trick-t110905.html</td>\n",
       "      <td>[]</td>\n",
       "    </tr>\n",
       "    <tr>\n",
       "      <th>5</th>\n",
       "      <td>forum/-20-dollar-trick-t110905.html</td>\n",
       "      <td>[The suggested method is, when they ask for yo...</td>\n",
       "    </tr>\n",
       "  </tbody>\n",
       "</table>\n",
       "</div>"
      ],
      "text/plain": [
       "                                  Link  \\\n",
       "1  forum/-20-dollar-trick-t110905.html   \n",
       "2  forum/-20-dollar-trick-t110905.html   \n",
       "3  forum/-20-dollar-trick-t110905.html   \n",
       "4  forum/-20-dollar-trick-t110905.html   \n",
       "5  forum/-20-dollar-trick-t110905.html   \n",
       "\n",
       "                                               Reply  \n",
       "1  [Excellent news jac!, I'm so pleased you tried...  \n",
       "2  [I love the $20 trick but I haven't tried it f...  \n",
       "3  [Tried it at the Bellagio in November and got ...  \n",
       "4                                                 []  \n",
       "5  [The suggested method is, when they ask for yo...  "
      ]
     },
     "execution_count": 52,
     "metadata": {},
     "output_type": "execute_result"
    }
   ],
   "source": [
    "msg_df = titles_with_messages[CHOSEN_COLUMNS]\n",
    "msg_df.head()"
   ]
  },
  {
   "cell_type": "code",
   "execution_count": 53,
   "metadata": {},
   "outputs": [
    {
     "data": {
      "text/html": [
       "<div>\n",
       "<style scoped>\n",
       "    .dataframe tbody tr th:only-of-type {\n",
       "        vertical-align: middle;\n",
       "    }\n",
       "\n",
       "    .dataframe tbody tr th {\n",
       "        vertical-align: top;\n",
       "    }\n",
       "\n",
       "    .dataframe thead th {\n",
       "        text-align: right;\n",
       "    }\n",
       "</style>\n",
       "<table border=\"1\" class=\"dataframe\">\n",
       "  <thead>\n",
       "    <tr style=\"text-align: right;\">\n",
       "      <th></th>\n",
       "      <th>Link</th>\n",
       "      <th>Title</th>\n",
       "      <th>Seeker</th>\n",
       "      <th>First_Post</th>\n",
       "      <th>Title_sent_count</th>\n",
       "      <th>FP_sent_count</th>\n",
       "    </tr>\n",
       "  </thead>\n",
       "  <tbody>\n",
       "    <tr>\n",
       "      <th>0</th>\n",
       "      <td>forum/-20-dollar-trick-t110905.html</td>\n",
       "      <td>[$20 Dollar trick]</td>\n",
       "      <td>jac47</td>\n",
       "      <td>[just returned from our first trip to vegas..I...</td>\n",
       "      <td>1</td>\n",
       "      <td>3</td>\n",
       "    </tr>\n",
       "    <tr>\n",
       "      <th>1</th>\n",
       "      <td>forum/-toronto-halal-t102178.html</td>\n",
       "      <td>[--Toronto- halal--]</td>\n",
       "      <td>Just_a_tourist</td>\n",
       "      <td>[Hi!, Does anyone know good places where they ...</td>\n",
       "      <td>1</td>\n",
       "      <td>3</td>\n",
       "    </tr>\n",
       "    <tr>\n",
       "      <th>2</th>\n",
       "      <td>forum/1st-time-florida-help-t141308.html</td>\n",
       "      <td>[1st Time to Florida HELP!!]</td>\n",
       "      <td>Lelly</td>\n",
       "      <td>[Hello, we are a family of 5 going to Florida ...</td>\n",
       "      <td>1</td>\n",
       "      <td>7</td>\n",
       "    </tr>\n",
       "    <tr>\n",
       "      <th>3</th>\n",
       "      <td>forum/1st-time-florida-whats-nearby-t153058.html</td>\n",
       "      <td>[1st time florida - whats nearby]</td>\n",
       "      <td>cart583</td>\n",
       "      <td>[hi, never been to florida before but have boo...</td>\n",
       "      <td>1</td>\n",
       "      <td>7</td>\n",
       "    </tr>\n",
       "    <tr>\n",
       "      <th>4</th>\n",
       "      <td>forum/1st-time-new-york-booking-advice-t126856...</td>\n",
       "      <td>[1st time New York / booking advice]</td>\n",
       "      <td>seagull</td>\n",
       "      <td>[Starting to look into booking a break in New ...</td>\n",
       "      <td>1</td>\n",
       "      <td>1</td>\n",
       "    </tr>\n",
       "  </tbody>\n",
       "</table>\n",
       "</div>"
      ],
      "text/plain": [
       "                                                Link  \\\n",
       "0                forum/-20-dollar-trick-t110905.html   \n",
       "1                  forum/-toronto-halal-t102178.html   \n",
       "2           forum/1st-time-florida-help-t141308.html   \n",
       "3   forum/1st-time-florida-whats-nearby-t153058.html   \n",
       "4  forum/1st-time-new-york-booking-advice-t126856...   \n",
       "\n",
       "                                  Title          Seeker  \\\n",
       "0                    [$20 Dollar trick]           jac47   \n",
       "1                  [--Toronto- halal--]  Just_a_tourist   \n",
       "2          [1st Time to Florida HELP!!]           Lelly   \n",
       "3     [1st time florida - whats nearby]         cart583   \n",
       "4  [1st time New York / booking advice]         seagull   \n",
       "\n",
       "                                          First_Post  Title_sent_count  \\\n",
       "0  [just returned from our first trip to vegas..I...                 1   \n",
       "1  [Hi!, Does anyone know good places where they ...                 1   \n",
       "2  [Hello, we are a family of 5 going to Florida ...                 1   \n",
       "3  [hi, never been to florida before but have boo...                 1   \n",
       "4  [Starting to look into booking a break in New ...                 1   \n",
       "\n",
       "   FP_sent_count  \n",
       "0              3  \n",
       "1              3  \n",
       "2              7  \n",
       "3              7  \n",
       "4              1  "
      ]
     },
     "execution_count": 53,
     "metadata": {},
     "output_type": "execute_result"
    }
   ],
   "source": [
    "titles_with_first_post.head()"
   ]
  },
  {
   "cell_type": "code",
   "execution_count": 54,
   "metadata": {},
   "outputs": [
    {
     "data": {
      "text/html": [
       "<div>\n",
       "<style scoped>\n",
       "    .dataframe tbody tr th:only-of-type {\n",
       "        vertical-align: middle;\n",
       "    }\n",
       "\n",
       "    .dataframe tbody tr th {\n",
       "        vertical-align: top;\n",
       "    }\n",
       "\n",
       "    .dataframe thead th {\n",
       "        text-align: right;\n",
       "    }\n",
       "</style>\n",
       "<table border=\"1\" class=\"dataframe\">\n",
       "  <thead>\n",
       "    <tr style=\"text-align: right;\">\n",
       "      <th></th>\n",
       "      <th>Link</th>\n",
       "      <th>Title</th>\n",
       "      <th>First_Post</th>\n",
       "    </tr>\n",
       "  </thead>\n",
       "  <tbody>\n",
       "    <tr>\n",
       "      <th>0</th>\n",
       "      <td>forum/-20-dollar-trick-t110905.html</td>\n",
       "      <td>[$20 Dollar trick]</td>\n",
       "      <td>[just returned from our first trip to vegas..I...</td>\n",
       "    </tr>\n",
       "    <tr>\n",
       "      <th>1</th>\n",
       "      <td>forum/-toronto-halal-t102178.html</td>\n",
       "      <td>[--Toronto- halal--]</td>\n",
       "      <td>[Hi!, Does anyone know good places where they ...</td>\n",
       "    </tr>\n",
       "    <tr>\n",
       "      <th>2</th>\n",
       "      <td>forum/1st-time-florida-help-t141308.html</td>\n",
       "      <td>[1st Time to Florida HELP!!]</td>\n",
       "      <td>[Hello, we are a family of 5 going to Florida ...</td>\n",
       "    </tr>\n",
       "    <tr>\n",
       "      <th>3</th>\n",
       "      <td>forum/1st-time-florida-whats-nearby-t153058.html</td>\n",
       "      <td>[1st time florida - whats nearby]</td>\n",
       "      <td>[hi, never been to florida before but have boo...</td>\n",
       "    </tr>\n",
       "    <tr>\n",
       "      <th>4</th>\n",
       "      <td>forum/1st-time-new-york-booking-advice-t126856...</td>\n",
       "      <td>[1st time New York / booking advice]</td>\n",
       "      <td>[Starting to look into booking a break in New ...</td>\n",
       "    </tr>\n",
       "  </tbody>\n",
       "</table>\n",
       "</div>"
      ],
      "text/plain": [
       "                                                Link  \\\n",
       "0                forum/-20-dollar-trick-t110905.html   \n",
       "1                  forum/-toronto-halal-t102178.html   \n",
       "2           forum/1st-time-florida-help-t141308.html   \n",
       "3   forum/1st-time-florida-whats-nearby-t153058.html   \n",
       "4  forum/1st-time-new-york-booking-advice-t126856...   \n",
       "\n",
       "                                  Title  \\\n",
       "0                    [$20 Dollar trick]   \n",
       "1                  [--Toronto- halal--]   \n",
       "2          [1st Time to Florida HELP!!]   \n",
       "3     [1st time florida - whats nearby]   \n",
       "4  [1st time New York / booking advice]   \n",
       "\n",
       "                                          First_Post  \n",
       "0  [just returned from our first trip to vegas..I...  \n",
       "1  [Hi!, Does anyone know good places where they ...  \n",
       "2  [Hello, we are a family of 5 going to Florida ...  \n",
       "3  [hi, never been to florida before but have boo...  \n",
       "4  [Starting to look into booking a break in New ...  "
      ]
     },
     "execution_count": 54,
     "metadata": {},
     "output_type": "execute_result"
    }
   ],
   "source": [
    "tfp_df = titles_with_first_post[['Link', 'Title', 'First_Post']]\n",
    "tfp_df.head()"
   ]
  },
  {
   "cell_type": "markdown",
   "metadata": {},
   "source": [
    "### 2.2. Precomputing word2vec"
   ]
  },
  {
   "cell_type": "markdown",
   "metadata": {},
   "source": [
    "We apply word2vec (we give a vector representation for every word of a sentence and then we associate every sentence with the means of its words). We do this for the titles, the first posts and the messages."
   ]
  },
  {
   "cell_type": "code",
   "execution_count": 55,
   "metadata": {},
   "outputs": [],
   "source": [
    "import gensim\n",
    "import numpy as np\n",
    "model = gensim.models.KeyedVectors.load_word2vec_format('Forum Data/GoogleNews-vectors-negative300.bin', binary=True)\n",
    "from nltk.corpus import stopwords\n",
    "stopwords = set(nltk.corpus.stopwords.words('english'))\n",
    "\n",
    "def get_sentence_vector(sentence):\n",
    "    tokens = [token for token in nltk.word_tokenize(sentence) if token not in stopwords]\n",
    "    vectors = []\n",
    "    for token in tokens:\n",
    "        try:\n",
    "            word_vec = model.wv[token]\n",
    "            vectors.append(word_vec)\n",
    "        except:\n",
    "            pass\n",
    "    if vectors:\n",
    "        return np.mean(vectors, axis=0)\n",
    "    else:\n",
    "        return []"
   ]
  },
  {
   "cell_type": "code",
   "execution_count": 56,
   "metadata": {},
   "outputs": [
    {
     "name": "stderr",
     "output_type": "stream",
     "text": [
      "C:\\Users\\Meret\\Anaconda3\\lib\\site-packages\\ipykernel_launcher.py:12: DeprecationWarning: Call to deprecated `wv` (Attribute will be removed in 4.0.0, use self instead).\n",
      "  if sys.path[0] == '':\n",
      "C:\\Users\\Meret\\Anaconda3\\lib\\site-packages\\ipykernel_launcher.py:1: SettingWithCopyWarning: \n",
      "A value is trying to be set on a copy of a slice from a DataFrame.\n",
      "Try using .loc[row_indexer,col_indexer] = value instead\n",
      "\n",
      "See the caveats in the documentation: http://pandas.pydata.org/pandas-docs/stable/indexing.html#indexing-view-versus-copy\n",
      "  \"\"\"Entry point for launching an IPython kernel.\n",
      "C:\\Users\\Meret\\Anaconda3\\lib\\site-packages\\ipykernel_launcher.py:2: SettingWithCopyWarning: \n",
      "A value is trying to be set on a copy of a slice from a DataFrame.\n",
      "Try using .loc[row_indexer,col_indexer] = value instead\n",
      "\n",
      "See the caveats in the documentation: http://pandas.pydata.org/pandas-docs/stable/indexing.html#indexing-view-versus-copy\n",
      "  \n"
     ]
    },
    {
     "data": {
      "text/html": [
       "<div>\n",
       "<style scoped>\n",
       "    .dataframe tbody tr th:only-of-type {\n",
       "        vertical-align: middle;\n",
       "    }\n",
       "\n",
       "    .dataframe tbody tr th {\n",
       "        vertical-align: top;\n",
       "    }\n",
       "\n",
       "    .dataframe thead th {\n",
       "        text-align: right;\n",
       "    }\n",
       "</style>\n",
       "<table border=\"1\" class=\"dataframe\">\n",
       "  <thead>\n",
       "    <tr style=\"text-align: right;\">\n",
       "      <th></th>\n",
       "      <th>Link</th>\n",
       "      <th>Title</th>\n",
       "      <th>First_Post</th>\n",
       "      <th>Title_word2vec</th>\n",
       "      <th>First_Post_word2vec</th>\n",
       "    </tr>\n",
       "  </thead>\n",
       "  <tbody>\n",
       "    <tr>\n",
       "      <th>0</th>\n",
       "      <td>forum/-20-dollar-trick-t110905.html</td>\n",
       "      <td>[$20 Dollar trick]</td>\n",
       "      <td>[just returned from our first trip to vegas..I...</td>\n",
       "      <td>[[0.053548176, -0.06933594, -0.022298178, 0.05...</td>\n",
       "      <td>[[0.06859633, 0.07334631, -0.01894244, 0.10071...</td>\n",
       "    </tr>\n",
       "    <tr>\n",
       "      <th>1</th>\n",
       "      <td>forum/-toronto-halal-t102178.html</td>\n",
       "      <td>[--Toronto- halal--]</td>\n",
       "      <td>[Hi!, Does anyone know good places where they ...</td>\n",
       "      <td>[[-0.4375, -0.36914062, 0.21484375, 0.14941406...</td>\n",
       "      <td>[[-0.087402344, 0.095703125, 0.27539062, -0.01...</td>\n",
       "    </tr>\n",
       "    <tr>\n",
       "      <th>2</th>\n",
       "      <td>forum/1st-time-florida-help-t141308.html</td>\n",
       "      <td>[1st Time to Florida HELP!!]</td>\n",
       "      <td>[Hello, we are a family of 5 going to Florida ...</td>\n",
       "      <td>[[0.09753418, 0.0126953125, 0.038024902, 0.224...</td>\n",
       "      <td>[[0.039695047, 0.022238992, 0.029807352, 0.102...</td>\n",
       "    </tr>\n",
       "    <tr>\n",
       "      <th>3</th>\n",
       "      <td>forum/1st-time-florida-whats-nearby-t153058.html</td>\n",
       "      <td>[1st time florida - whats nearby]</td>\n",
       "      <td>[hi, never been to florida before but have boo...</td>\n",
       "      <td>[[0.030883789, -0.016217042, 0.0061157225, 0.2...</td>\n",
       "      <td>[[-0.010480608, 0.021902902, -0.032854352, 0.0...</td>\n",
       "    </tr>\n",
       "    <tr>\n",
       "      <th>4</th>\n",
       "      <td>forum/1st-time-new-york-booking-advice-t126856...</td>\n",
       "      <td>[1st time New York / booking advice]</td>\n",
       "      <td>[Starting to look into booking a break in New ...</td>\n",
       "      <td>[[-0.012568156, 0.072255455, -0.041554768, 0.0...</td>\n",
       "      <td>[[0.042194713, 0.096147016, -0.065665506, 0.10...</td>\n",
       "    </tr>\n",
       "  </tbody>\n",
       "</table>\n",
       "</div>"
      ],
      "text/plain": [
       "                                                Link  \\\n",
       "0                forum/-20-dollar-trick-t110905.html   \n",
       "1                  forum/-toronto-halal-t102178.html   \n",
       "2           forum/1st-time-florida-help-t141308.html   \n",
       "3   forum/1st-time-florida-whats-nearby-t153058.html   \n",
       "4  forum/1st-time-new-york-booking-advice-t126856...   \n",
       "\n",
       "                                  Title  \\\n",
       "0                    [$20 Dollar trick]   \n",
       "1                  [--Toronto- halal--]   \n",
       "2          [1st Time to Florida HELP!!]   \n",
       "3     [1st time florida - whats nearby]   \n",
       "4  [1st time New York / booking advice]   \n",
       "\n",
       "                                          First_Post  \\\n",
       "0  [just returned from our first trip to vegas..I...   \n",
       "1  [Hi!, Does anyone know good places where they ...   \n",
       "2  [Hello, we are a family of 5 going to Florida ...   \n",
       "3  [hi, never been to florida before but have boo...   \n",
       "4  [Starting to look into booking a break in New ...   \n",
       "\n",
       "                                      Title_word2vec  \\\n",
       "0  [[0.053548176, -0.06933594, -0.022298178, 0.05...   \n",
       "1  [[-0.4375, -0.36914062, 0.21484375, 0.14941406...   \n",
       "2  [[0.09753418, 0.0126953125, 0.038024902, 0.224...   \n",
       "3  [[0.030883789, -0.016217042, 0.0061157225, 0.2...   \n",
       "4  [[-0.012568156, 0.072255455, -0.041554768, 0.0...   \n",
       "\n",
       "                                 First_Post_word2vec  \n",
       "0  [[0.06859633, 0.07334631, -0.01894244, 0.10071...  \n",
       "1  [[-0.087402344, 0.095703125, 0.27539062, -0.01...  \n",
       "2  [[0.039695047, 0.022238992, 0.029807352, 0.102...  \n",
       "3  [[-0.010480608, 0.021902902, -0.032854352, 0.0...  \n",
       "4  [[0.042194713, 0.096147016, -0.065665506, 0.10...  "
      ]
     },
     "execution_count": 56,
     "metadata": {},
     "output_type": "execute_result"
    }
   ],
   "source": [
    "tfp_df['Title_word2vec'] = tfp_df.Title.apply(lambda sents: [get_sentence_vector(sent) for sent in sents])\n",
    "tfp_df['First_Post_word2vec'] = tfp_df.First_Post.apply(lambda sents: [get_sentence_vector(sent) for sent in sents])\n",
    "tfp_df.head()"
   ]
  },
  {
   "cell_type": "code",
   "execution_count": 57,
   "metadata": {},
   "outputs": [
    {
     "name": "stderr",
     "output_type": "stream",
     "text": [
      "C:\\Users\\Meret\\Anaconda3\\lib\\site-packages\\ipykernel_launcher.py:12: DeprecationWarning: Call to deprecated `wv` (Attribute will be removed in 4.0.0, use self instead).\n",
      "  if sys.path[0] == '':\n",
      "C:\\Users\\Meret\\Anaconda3\\lib\\site-packages\\ipykernel_launcher.py:1: SettingWithCopyWarning: \n",
      "A value is trying to be set on a copy of a slice from a DataFrame.\n",
      "Try using .loc[row_indexer,col_indexer] = value instead\n",
      "\n",
      "See the caveats in the documentation: http://pandas.pydata.org/pandas-docs/stable/indexing.html#indexing-view-versus-copy\n",
      "  \"\"\"Entry point for launching an IPython kernel.\n"
     ]
    },
    {
     "data": {
      "text/html": [
       "<div>\n",
       "<style scoped>\n",
       "    .dataframe tbody tr th:only-of-type {\n",
       "        vertical-align: middle;\n",
       "    }\n",
       "\n",
       "    .dataframe tbody tr th {\n",
       "        vertical-align: top;\n",
       "    }\n",
       "\n",
       "    .dataframe thead th {\n",
       "        text-align: right;\n",
       "    }\n",
       "</style>\n",
       "<table border=\"1\" class=\"dataframe\">\n",
       "  <thead>\n",
       "    <tr style=\"text-align: right;\">\n",
       "      <th></th>\n",
       "      <th>Link</th>\n",
       "      <th>Reply</th>\n",
       "      <th>Reply_word2vec</th>\n",
       "    </tr>\n",
       "  </thead>\n",
       "  <tbody>\n",
       "    <tr>\n",
       "      <th>1</th>\n",
       "      <td>forum/-20-dollar-trick-t110905.html</td>\n",
       "      <td>[Excellent news jac!, I'm so pleased you tried...</td>\n",
       "      <td>[[-0.1188151, -0.056722004, -0.079589844, -0.0...</td>\n",
       "    </tr>\n",
       "    <tr>\n",
       "      <th>2</th>\n",
       "      <td>forum/-20-dollar-trick-t110905.html</td>\n",
       "      <td>[I love the $20 trick but I haven't tried it f...</td>\n",
       "      <td>[[0.15499441, 0.046831403, 0.044363838, 0.1210...</td>\n",
       "    </tr>\n",
       "    <tr>\n",
       "      <th>3</th>\n",
       "      <td>forum/-20-dollar-trick-t110905.html</td>\n",
       "      <td>[Tried it at the Bellagio in November and got ...</td>\n",
       "      <td>[[0.05673828, 0.018359374, 0.0030273437, 0.101...</td>\n",
       "    </tr>\n",
       "    <tr>\n",
       "      <th>4</th>\n",
       "      <td>forum/-20-dollar-trick-t110905.html</td>\n",
       "      <td>[]</td>\n",
       "      <td>[]</td>\n",
       "    </tr>\n",
       "    <tr>\n",
       "      <th>5</th>\n",
       "      <td>forum/-20-dollar-trick-t110905.html</td>\n",
       "      <td>[The suggested method is, when they ask for yo...</td>\n",
       "      <td>[[-0.018924968, 0.0462972, -0.009883626, 0.071...</td>\n",
       "    </tr>\n",
       "  </tbody>\n",
       "</table>\n",
       "</div>"
      ],
      "text/plain": [
       "                                  Link  \\\n",
       "1  forum/-20-dollar-trick-t110905.html   \n",
       "2  forum/-20-dollar-trick-t110905.html   \n",
       "3  forum/-20-dollar-trick-t110905.html   \n",
       "4  forum/-20-dollar-trick-t110905.html   \n",
       "5  forum/-20-dollar-trick-t110905.html   \n",
       "\n",
       "                                               Reply  \\\n",
       "1  [Excellent news jac!, I'm so pleased you tried...   \n",
       "2  [I love the $20 trick but I haven't tried it f...   \n",
       "3  [Tried it at the Bellagio in November and got ...   \n",
       "4                                                 []   \n",
       "5  [The suggested method is, when they ask for yo...   \n",
       "\n",
       "                                      Reply_word2vec  \n",
       "1  [[-0.1188151, -0.056722004, -0.079589844, -0.0...  \n",
       "2  [[0.15499441, 0.046831403, 0.044363838, 0.1210...  \n",
       "3  [[0.05673828, 0.018359374, 0.0030273437, 0.101...  \n",
       "4                                                 []  \n",
       "5  [[-0.018924968, 0.0462972, -0.009883626, 0.071...  "
      ]
     },
     "execution_count": 57,
     "metadata": {},
     "output_type": "execute_result"
    }
   ],
   "source": [
    "msg_df['Reply_word2vec'] = msg_df.Reply.apply(lambda sents: [get_sentence_vector(sent) for sent in sents])\n",
    "msg_df.head()"
   ]
  },
  {
   "cell_type": "markdown",
   "metadata": {},
   "source": [
    "We write the data to pickle files"
   ]
  },
  {
   "cell_type": "code",
   "execution_count": 58,
   "metadata": {},
   "outputs": [],
   "source": [
    "import pickle\n",
    "\n",
    "output1 = open('Forum Data/tfp_df.pkl', 'wb')\n",
    "pickle.dump(tfp_df, output1)\n",
    "\n",
    "output2 = open('Forum Data/msg_df.pkl', 'wb')\n",
    "pickle.dump(msg_df, output2)"
   ]
  },
  {
   "cell_type": "markdown",
   "metadata": {},
   "source": [
    "### 2.3. Dot Product Similarity Functions"
   ]
  },
  {
   "cell_type": "code",
   "execution_count": 59,
   "metadata": {},
   "outputs": [],
   "source": [
    "import pandas as pd\n",
    "from os import listdir\n",
    "import gensim\n",
    "import numpy as np\n",
    "import nltk\n",
    "from nltk.corpus import stopwords\n",
    "stopwords = set(nltk.corpus.stopwords.words('english'))"
   ]
  },
  {
   "cell_type": "code",
   "execution_count": 60,
   "metadata": {},
   "outputs": [],
   "source": [
    "model = gensim.models.KeyedVectors.load_word2vec_format('Forum Data/GoogleNews-vectors-negative300.bin', binary=True)"
   ]
  },
  {
   "cell_type": "code",
   "execution_count": 61,
   "metadata": {
    "scrolled": true
   },
   "outputs": [
    {
     "data": {
      "text/html": [
       "<div>\n",
       "<style scoped>\n",
       "    .dataframe tbody tr th:only-of-type {\n",
       "        vertical-align: middle;\n",
       "    }\n",
       "\n",
       "    .dataframe tbody tr th {\n",
       "        vertical-align: top;\n",
       "    }\n",
       "\n",
       "    .dataframe thead th {\n",
       "        text-align: right;\n",
       "    }\n",
       "</style>\n",
       "<table border=\"1\" class=\"dataframe\">\n",
       "  <thead>\n",
       "    <tr style=\"text-align: right;\">\n",
       "      <th></th>\n",
       "      <th>Link</th>\n",
       "      <th>Title</th>\n",
       "      <th>First_Post</th>\n",
       "      <th>Title_word2vec</th>\n",
       "      <th>First_Post_word2vec</th>\n",
       "    </tr>\n",
       "  </thead>\n",
       "  <tbody>\n",
       "    <tr>\n",
       "      <th>0</th>\n",
       "      <td>forum/-20-dollar-trick-t110905.html</td>\n",
       "      <td>[$20 Dollar trick]</td>\n",
       "      <td>[just returned from our first trip to vegas..I...</td>\n",
       "      <td>[[0.053548176, -0.06933594, -0.022298178, 0.05...</td>\n",
       "      <td>[[0.06859633, 0.07334631, -0.01894244, 0.10071...</td>\n",
       "    </tr>\n",
       "    <tr>\n",
       "      <th>1</th>\n",
       "      <td>forum/-toronto-halal-t102178.html</td>\n",
       "      <td>[--Toronto- halal--]</td>\n",
       "      <td>[Hi!, Does anyone know good places where they ...</td>\n",
       "      <td>[[-0.4375, -0.36914062, 0.21484375, 0.14941406...</td>\n",
       "      <td>[[-0.087402344, 0.095703125, 0.27539062, -0.01...</td>\n",
       "    </tr>\n",
       "    <tr>\n",
       "      <th>2</th>\n",
       "      <td>forum/1st-time-florida-help-t141308.html</td>\n",
       "      <td>[1st Time to Florida HELP!!]</td>\n",
       "      <td>[Hello, we are a family of 5 going to Florida ...</td>\n",
       "      <td>[[0.09753418, 0.0126953125, 0.038024902, 0.224...</td>\n",
       "      <td>[[0.039695047, 0.022238992, 0.029807352, 0.102...</td>\n",
       "    </tr>\n",
       "    <tr>\n",
       "      <th>3</th>\n",
       "      <td>forum/1st-time-florida-whats-nearby-t153058.html</td>\n",
       "      <td>[1st time florida - whats nearby]</td>\n",
       "      <td>[hi, never been to florida before but have boo...</td>\n",
       "      <td>[[0.030883789, -0.016217042, 0.0061157225, 0.2...</td>\n",
       "      <td>[[-0.010480608, 0.021902902, -0.032854352, 0.0...</td>\n",
       "    </tr>\n",
       "    <tr>\n",
       "      <th>4</th>\n",
       "      <td>forum/1st-time-new-york-booking-advice-t126856...</td>\n",
       "      <td>[1st time New York / booking advice]</td>\n",
       "      <td>[Starting to look into booking a break in New ...</td>\n",
       "      <td>[[-0.012568156, 0.072255455, -0.041554768, 0.0...</td>\n",
       "      <td>[[0.042194713, 0.096147016, -0.065665506, 0.10...</td>\n",
       "    </tr>\n",
       "  </tbody>\n",
       "</table>\n",
       "</div>"
      ],
      "text/plain": [
       "                                                Link  \\\n",
       "0                forum/-20-dollar-trick-t110905.html   \n",
       "1                  forum/-toronto-halal-t102178.html   \n",
       "2           forum/1st-time-florida-help-t141308.html   \n",
       "3   forum/1st-time-florida-whats-nearby-t153058.html   \n",
       "4  forum/1st-time-new-york-booking-advice-t126856...   \n",
       "\n",
       "                                  Title  \\\n",
       "0                    [$20 Dollar trick]   \n",
       "1                  [--Toronto- halal--]   \n",
       "2          [1st Time to Florida HELP!!]   \n",
       "3     [1st time florida - whats nearby]   \n",
       "4  [1st time New York / booking advice]   \n",
       "\n",
       "                                          First_Post  \\\n",
       "0  [just returned from our first trip to vegas..I...   \n",
       "1  [Hi!, Does anyone know good places where they ...   \n",
       "2  [Hello, we are a family of 5 going to Florida ...   \n",
       "3  [hi, never been to florida before but have boo...   \n",
       "4  [Starting to look into booking a break in New ...   \n",
       "\n",
       "                                      Title_word2vec  \\\n",
       "0  [[0.053548176, -0.06933594, -0.022298178, 0.05...   \n",
       "1  [[-0.4375, -0.36914062, 0.21484375, 0.14941406...   \n",
       "2  [[0.09753418, 0.0126953125, 0.038024902, 0.224...   \n",
       "3  [[0.030883789, -0.016217042, 0.0061157225, 0.2...   \n",
       "4  [[-0.012568156, 0.072255455, -0.041554768, 0.0...   \n",
       "\n",
       "                                 First_Post_word2vec  \n",
       "0  [[0.06859633, 0.07334631, -0.01894244, 0.10071...  \n",
       "1  [[-0.087402344, 0.095703125, 0.27539062, -0.01...  \n",
       "2  [[0.039695047, 0.022238992, 0.029807352, 0.102...  \n",
       "3  [[-0.010480608, 0.021902902, -0.032854352, 0.0...  \n",
       "4  [[0.042194713, 0.096147016, -0.065665506, 0.10...  "
      ]
     },
     "execution_count": 61,
     "metadata": {},
     "output_type": "execute_result"
    }
   ],
   "source": [
    "tfp_df = pd.read_pickle('Forum Data/tfp_df.pkl')\n",
    "tfp_df.head()"
   ]
  },
  {
   "cell_type": "markdown",
   "metadata": {},
   "source": [
    "Functions that compute the similarity between sentences."
   ]
  },
  {
   "cell_type": "code",
   "execution_count": 62,
   "metadata": {},
   "outputs": [],
   "source": [
    "def cosine_similarity(vec1, vec2):\n",
    "    return np.dot(vec1, vec2)/(np.linalg.norm(vec1) * np.linalg.norm(vec2))\n",
    "\n",
    "def get_sentence_vector(sentence):\n",
    "    tokens = [token for token in nltk.word_tokenize(sentence) if token not in stopwords]\n",
    "    vectors = []\n",
    "    for token in tokens:\n",
    "        try:\n",
    "            word_vec = model.wv[token]\n",
    "            vectors.append(word_vec)\n",
    "        except:\n",
    "            pass\n",
    "    if vectors:\n",
    "        return np.mean(vectors, axis=0)\n",
    "    else:\n",
    "        return []\n",
    "\n",
    "def is_not_null(sent_vec):\n",
    "    for element in sent_vec:\n",
    "        if not element == 0.0:\n",
    "            return True\n",
    "    return False\n",
    "\n",
    "def sent_to_text_similarity(sent_vec, text_vec):\n",
    "    similarities = []\n",
    "    for vec in text_vec:\n",
    "        if is_not_null(vec):\n",
    "            similarities.append(np.dot(sent_vec, vec)/(np.linalg.norm(sent_vec) * np.linalg.norm(vec)))\n",
    "    if similarities:\n",
    "        return np.mean(similarities)\n",
    "    else:\n",
    "        return np.nan\n",
    "\n",
    "def text_to_text_similarity(sent_vecs1, sent_vecs2):\n",
    "    similarities = []\n",
    "    for v1 in sent_vecs1:\n",
    "        if is_not_null(v1):\n",
    "            similarity = sent_to_text_similarity(v1, sent_vecs2)\n",
    "            if not np.isnan(similarity):\n",
    "                similarities.append(similarity)\n",
    "    if similarities:\n",
    "        return np.mean(similarities)\n",
    "    else:\n",
    "        return np.nan\n",
    "\n",
    "def text_to_corpus_similarity(text, corpus):\n",
    "    sent_vecs = text_to_sent_vec(text)\n",
    "    corpus_vecs = [text_to_sent_vec(other_text) for other_text in corpus]\n",
    "    max_sim = 0\n",
    "    index = -1\n",
    "    for text_index in range(len(corpus_vecs)):\n",
    "        similarity = text_to_text_similarity(sent_vecs, corpus_vecs[text_index])\n",
    "        if not np.isnan(similarity) and max_sim < similarity:\n",
    "            max_sim = similarity\n",
    "            index = text_index\n",
    "    if index >= 0:\n",
    "        return corpus[index]\n",
    "    else:\n",
    "        return None"
   ]
  },
  {
   "cell_type": "markdown",
   "metadata": {},
   "source": [
    "### 2.4. Chatbot Functions"
   ]
  },
  {
   "cell_type": "markdown",
   "metadata": {},
   "source": [
    "Functions that find the best matching sentences in a forum."
   ]
  },
  {
   "cell_type": "code",
   "execution_count": 63,
   "metadata": {},
   "outputs": [],
   "source": [
    "tokenizer = nltk.data.load('tokenizers/punkt/english.pickle')"
   ]
  },
  {
   "cell_type": "code",
   "execution_count": 64,
   "metadata": {},
   "outputs": [],
   "source": [
    "def compute_similarity(row, sent_vec):\n",
    "    title_sim = 0\n",
    "    title_word2vec = row['Title_word2vec']\n",
    "    if len(title_word2vec) > 0:\n",
    "        if len(title_word2vec[0]) > 0:\n",
    "            title_sim = cosine_similarity(sent_vec, title_word2vec[0])\n",
    "    return title_sim\n",
    "\n",
    "def compute_separate_similarity(row, sent_vecs):\n",
    "    title_sim = 0\n",
    "    title_word2vec = row['Title_word2vec']\n",
    "    if len(title_word2vec) > 0:\n",
    "        if len(title_word2vec[0]) > 0:\n",
    "            title_sim = np.dot(sent_vecs[0], title_word2vec[0])/(np.linalg.norm(sent_vecs[0])*np.linalg.norm(title_word2vec[0]))\n",
    "    fp_sim = text_to_text_similarity(sent_vecs[1:], row['First_Post_word2vec'])\n",
    "    return title_sim + fp_sim\n",
    "\n",
    "def compute_separate_similarity_no_question(row, sent_vecs):\n",
    "    fp_sim = text_to_text_similarity(sent_vecs, row['First_Post_word2vec'])\n",
    "    return fp_sim\n",
    "\n",
    "def get_most_similar_title(sentences, sent_vecs):\n",
    "    \"\"\"\n",
    "    Finds the most similar thread in a forum (the thread which will be the most likely to have a matching response).\n",
    "    Returns the row of the DataFrame of this most similar thread.\n",
    "    :param sentences: list\n",
    "    :param sent_vecs: list\n",
    "    :return: DataFrame\n",
    "    \"\"\"\n",
    "    if sentences == 0:\n",
    "        raise ValueError('Write something!')\n",
    "    elif len(sentences) == 1:\n",
    "        #compares only with titles\n",
    "        title_fp_sim = tfp_df.apply(lambda row: compute_similarity(row, sent_vecs[0]), axis=1)\n",
    "    elif sentences[0].endswith('?'):\n",
    "        #compares with titles and first posts\n",
    "        title_fp_sim = tfp_df.apply(lambda row: compute_separate_similarity(row, sent_vecs), axis=1)\n",
    "    else:\n",
    "        #compares with first posts\n",
    "        title_fp_sim = tfp_df.apply(lambda row: compute_separate_similarity_no_question(row, sent_vecs), axis=1)\n",
    "    return tfp_df.loc[title_fp_sim.idxmax()]\n",
    "\n",
    "def get_response_sentences(sent_vecs, link, max_sentences):\n",
    "    \"\"\"\n",
    "    Finds the closest sentences (depending on max_sentences) in a particular thread.\n",
    "    :param sent_vecs: list\n",
    "    :param link: string\n",
    "    :param max_sentences: int\n",
    "    :return: string\n",
    "    \"\"\"\n",
    "    answer_df = pd.read_pickle('Forum Data/msg_df.pkl')\n",
    "    answer_df = answer_df[answer_df['Link'].map(lambda x: x == link)]\n",
    "    \n",
    "    if answer_df.empty:\n",
    "        s = 'I did not find a matching sentence'\n",
    "        return s\n",
    "    \n",
    "    best_answer = answer_df.loc[answer_df['Reply_word2vec'].apply(lambda other_vecs: \n",
    "                                                     text_to_text_similarity(sent_vecs, other_vecs)).idxmax()]\n",
    "        \n",
    "    best_sentence_idx = np.argmax([sent_to_text_similarity(sent_vec, sent_vecs) for sent_vec in best_answer.Reply_word2vec if len(sent_vec)])\n",
    "    reply_sentences = best_answer.Reply\n",
    "    if max_sentences <= 1:\n",
    "        return reply_sentences[best_sentence_idx]\n",
    "    else:\n",
    "        context_sent_count = int((max_sentences - 1)/2)\n",
    "        sent_count = len(reply_sentences)\n",
    "        lower_bound = best_sentence_idx - context_sent_count\n",
    "        upper_bound = best_sentence_idx + context_sent_count + 1\n",
    "        return ' '.join(reply_sentences[max(0, lower_bound - max(0, upper_bound - sent_count)): \n",
    "                                        min(upper_bound + max(0, 0 - lower_bound) + ((max_sentences - 1) % 2), sent_count)])\n",
    "\n",
    "def chatbot_answer(question, max_sentences=1):\n",
    "    \"\"\"\n",
    "    Finds the closest response in the forum using forum data and word2vec.\n",
    "    :param question: string\n",
    "    :param max_sentences: int\n",
    "    :return: string\n",
    "    \"\"\"\n",
    "    sentences = tokenizer.tokenize(question)\n",
    "    sent_vecs = [get_sentence_vector(sent) for sent in sentences]\n",
    "    most_similar_title = get_most_similar_title(sentences, sent_vecs)\n",
    "    return get_response_sentences(sent_vecs, most_similar_title.Link, max_sentences)\n",
    "                        "
   ]
  },
  {
   "cell_type": "code",
   "execution_count": 65,
   "metadata": {},
   "outputs": [
    {
     "name": "stderr",
     "output_type": "stream",
     "text": [
      "C:\\Users\\Meret\\Anaconda3\\lib\\site-packages\\ipykernel_launcher.py:9: DeprecationWarning: Call to deprecated `wv` (Attribute will be removed in 4.0.0, use self instead).\n",
      "  if __name__ == '__main__':\n"
     ]
    },
    {
     "data": {
      "text/plain": [
       "\"Our fave is the MGM Grand. Yes it is huge, but that is what Vegas is all about. You have everything you want in one hotel...The atmosphere is great with a very young feel to the place and the feel good factor is more evident here than at other hotels, with perhaps the NYNY being the only hotel able to compete...Rooms are to die for, service is exceptional, and location can't be beaten.\""
      ]
     },
     "execution_count": 65,
     "metadata": {},
     "output_type": "execute_result"
    }
   ],
   "source": [
    "chatbot_answer(\"Best hotel in Vegas?\", max_sentences=3)"
   ]
  },
  {
   "cell_type": "code",
   "execution_count": null,
   "metadata": {},
   "outputs": [],
   "source": []
  }
 ],
 "metadata": {
  "kernelspec": {
   "display_name": "Python 3",
   "language": "python",
   "name": "python3"
  },
  "language_info": {
   "codemirror_mode": {
    "name": "ipython",
    "version": 3
   },
   "file_extension": ".py",
   "mimetype": "text/x-python",
   "name": "python",
   "nbconvert_exporter": "python",
   "pygments_lexer": "ipython3",
   "version": "3.6.4"
  }
 },
 "nbformat": 4,
 "nbformat_minor": 2
}
